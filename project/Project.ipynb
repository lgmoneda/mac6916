{
 "cells": [
  {
   "cell_type": "markdown",
   "metadata": {},
   "source": [
    "### Estimating the effect of a public policy on Brazilian students\n",
    "\n",
    "On this notebook we'll try to explore the idea of estimating the impact of a public policy that pays scolarship for public schools students to\n",
    "\n",
    "The following approaches will be tried:\n",
    "\n",
    "- Logistic Regression\n",
    "- Bayesian Network\n",
    "- Structured Causal Model\n",
    "\n",
    "We're going to make classes from the continuous features. The target will be adjusted to be 1 when it's above 80% of the scores and 0 otherwise. \n",
    "\n",
    "Since the idea here is just to illustrate, most of the features are going to be discarded. \n",
    "\n",
    "The ones intended to be keeped are:\n",
    "\n",
    "Students characteristics:\n",
    "- Age (NU_IDADE)\n",
    "- Region (transformed SG_UF_RESIDENCIA)\n",
    "- Gender (TP_SEXO)\n",
    "- School (TP_ESCOLA)\n",
    "- Skin color (TP_COR_RACA)\n",
    "- Monthly Income (Q006)\n",
    "\n",
    "Variables to filter examples:\n",
    "- Presença na prova objetiva de Ciências da Natureza (TP_PRESENCA_CN)\n",
    "- Presença na prova objetiva de Ciências Humanas (TP_PRESENCA_CH)\n",
    "- Presença na prova objetiva de Linguagens e Códigos (TP_PRESENCA_LC)\n",
    "- Presença na prova objetiva de Matemática (TP_PRESENCA_MT)\n",
    "\n",
    "Variables of interest:\n",
    "- Sciences grade (NU_NOTA_CN)\n",
    "- Human Sciences grade (NU_NOTA_CH)\n",
    "- Language grade (NU_NOTA_LC)\n",
    "- Math grade (NU_NOTA_MT)\n",
    "- Writing grade (NU_NOTA_REDACAO)"
   ]
  },
  {
   "cell_type": "code",
   "execution_count": 1,
   "metadata": {},
   "outputs": [],
   "source": [
    "import pandas as pd\n",
    "import matplotlib.pyplot as plt"
   ]
  },
  {
   "cell_type": "code",
   "execution_count": 2,
   "metadata": {},
   "outputs": [],
   "source": [
    "colunas = ['NU_IDADE',\n",
    "           #'SG_UF_RESIDENCIA',\n",
    "           'TP_SEXO',\n",
    "           'TP_ESCOLA',\n",
    "           'TP_COR_RACA',\n",
    "           'Q006',\n",
    "           'NU_NOTA_CH',\n",
    "           'NU_NOTA_CN', \n",
    "           'NU_NOTA_LC', \n",
    "           'NU_NOTA_MT',\n",
    "           'NU_NOTA_REDACAO',\n",
    "           'TP_PRESENCA_CN', \n",
    "           'TP_PRESENCA_CH',\n",
    "           'TP_PRESENCA_LC', \n",
    "           'TP_PRESENCA_MT'] "
   ]
  },
  {
   "cell_type": "code",
   "execution_count": 3,
   "metadata": {},
   "outputs": [
    {
     "name": "stderr",
     "output_type": "stream",
     "text": [
      "/opt/conda/envs/causal/lib/python3.5/site-packages/IPython/core/interactiveshell.py:3020: DtypeWarning: Columns (88) have mixed types. Specify dtype option on import or set low_memory=False.\n",
      "  interactivity=interactivity, compiler=compiler, result=result)\n"
     ]
    }
   ],
   "source": [
    "data = pd.read_csv(\"data/microdados_enem_2016_coma.csv\", encoding='latin-1', \n",
    "                 sep=',', usecols=colunas)"
   ]
  },
  {
   "cell_type": "code",
   "execution_count": 4,
   "metadata": {},
   "outputs": [
    {
     "data": {
      "text/plain": [
       "(8627367, 14)"
      ]
     },
     "execution_count": 4,
     "metadata": {},
     "output_type": "execute_result"
    }
   ],
   "source": [
    "data.shape"
   ]
  },
  {
   "cell_type": "code",
   "execution_count": 5,
   "metadata": {},
   "outputs": [
    {
     "data": {
      "text/html": [
       "<div>\n",
       "<style scoped>\n",
       "    .dataframe tbody tr th:only-of-type {\n",
       "        vertical-align: middle;\n",
       "    }\n",
       "\n",
       "    .dataframe tbody tr th {\n",
       "        vertical-align: top;\n",
       "    }\n",
       "\n",
       "    .dataframe thead th {\n",
       "        text-align: right;\n",
       "    }\n",
       "</style>\n",
       "<table border=\"1\" class=\"dataframe\">\n",
       "  <thead>\n",
       "    <tr style=\"text-align: right;\">\n",
       "      <th></th>\n",
       "      <th>NU_IDADE</th>\n",
       "      <th>TP_SEXO</th>\n",
       "      <th>TP_COR_RACA</th>\n",
       "      <th>TP_ESCOLA</th>\n",
       "      <th>TP_PRESENCA_CN</th>\n",
       "      <th>TP_PRESENCA_CH</th>\n",
       "      <th>TP_PRESENCA_LC</th>\n",
       "      <th>TP_PRESENCA_MT</th>\n",
       "      <th>NU_NOTA_CN</th>\n",
       "      <th>NU_NOTA_CH</th>\n",
       "      <th>NU_NOTA_LC</th>\n",
       "      <th>NU_NOTA_MT</th>\n",
       "      <th>NU_NOTA_REDACAO</th>\n",
       "      <th>Q006</th>\n",
       "    </tr>\n",
       "  </thead>\n",
       "  <tbody>\n",
       "    <tr>\n",
       "      <th>0</th>\n",
       "      <td>23.0</td>\n",
       "      <td>M</td>\n",
       "      <td>3</td>\n",
       "      <td>1</td>\n",
       "      <td>1</td>\n",
       "      <td>1.0</td>\n",
       "      <td>1.0</td>\n",
       "      <td>1.0</td>\n",
       "      <td>550.0</td>\n",
       "      <td>629.4</td>\n",
       "      <td>574.0</td>\n",
       "      <td>462.9</td>\n",
       "      <td>580.0</td>\n",
       "      <td>B</td>\n",
       "    </tr>\n",
       "    <tr>\n",
       "      <th>1</th>\n",
       "      <td>20.0</td>\n",
       "      <td>M</td>\n",
       "      <td>1</td>\n",
       "      <td>1</td>\n",
       "      <td>1</td>\n",
       "      <td>1.0</td>\n",
       "      <td>1.0</td>\n",
       "      <td>1.0</td>\n",
       "      <td>576.6</td>\n",
       "      <td>669.8</td>\n",
       "      <td>610.1</td>\n",
       "      <td>423.6</td>\n",
       "      <td>560.0</td>\n",
       "      <td>D</td>\n",
       "    </tr>\n",
       "    <tr>\n",
       "      <th>2</th>\n",
       "      <td>21.0</td>\n",
       "      <td>M</td>\n",
       "      <td>3</td>\n",
       "      <td>1</td>\n",
       "      <td>1</td>\n",
       "      <td>1.0</td>\n",
       "      <td>1.0</td>\n",
       "      <td>1.0</td>\n",
       "      <td>485.8</td>\n",
       "      <td>576.9</td>\n",
       "      <td>637.4</td>\n",
       "      <td>414.6</td>\n",
       "      <td>480.0</td>\n",
       "      <td>D</td>\n",
       "    </tr>\n",
       "    <tr>\n",
       "      <th>3</th>\n",
       "      <td>17.0</td>\n",
       "      <td>M</td>\n",
       "      <td>1</td>\n",
       "      <td>1</td>\n",
       "      <td>1</td>\n",
       "      <td>1.0</td>\n",
       "      <td>1.0</td>\n",
       "      <td>1.0</td>\n",
       "      <td>571.4</td>\n",
       "      <td>628.6</td>\n",
       "      <td>646.2</td>\n",
       "      <td>709.4</td>\n",
       "      <td>620.0</td>\n",
       "      <td>B</td>\n",
       "    </tr>\n",
       "    <tr>\n",
       "      <th>4</th>\n",
       "      <td>36.0</td>\n",
       "      <td>F</td>\n",
       "      <td>1</td>\n",
       "      <td>1</td>\n",
       "      <td>0</td>\n",
       "      <td>0.0</td>\n",
       "      <td>0.0</td>\n",
       "      <td>0.0</td>\n",
       "      <td>NaN</td>\n",
       "      <td>NaN</td>\n",
       "      <td>NaN</td>\n",
       "      <td>NaN</td>\n",
       "      <td>NaN</td>\n",
       "      <td>A</td>\n",
       "    </tr>\n",
       "  </tbody>\n",
       "</table>\n",
       "</div>"
      ],
      "text/plain": [
       "   NU_IDADE TP_SEXO  TP_COR_RACA  TP_ESCOLA TP_PRESENCA_CN  TP_PRESENCA_CH  \\\n",
       "0      23.0       M            3          1              1             1.0   \n",
       "1      20.0       M            1          1              1             1.0   \n",
       "2      21.0       M            3          1              1             1.0   \n",
       "3      17.0       M            1          1              1             1.0   \n",
       "4      36.0       F            1          1              0             0.0   \n",
       "\n",
       "   TP_PRESENCA_LC  TP_PRESENCA_MT  NU_NOTA_CN  NU_NOTA_CH  NU_NOTA_LC  \\\n",
       "0             1.0             1.0       550.0       629.4       574.0   \n",
       "1             1.0             1.0       576.6       669.8       610.1   \n",
       "2             1.0             1.0       485.8       576.9       637.4   \n",
       "3             1.0             1.0       571.4       628.6       646.2   \n",
       "4             0.0             0.0         NaN         NaN         NaN   \n",
       "\n",
       "   NU_NOTA_MT  NU_NOTA_REDACAO Q006  \n",
       "0       462.9            580.0    B  \n",
       "1       423.6            560.0    D  \n",
       "2       414.6            480.0    D  \n",
       "3       709.4            620.0    B  \n",
       "4         NaN              NaN    A  "
      ]
     },
     "execution_count": 5,
     "metadata": {},
     "output_type": "execute_result"
    }
   ],
   "source": [
    "data.head()"
   ]
  },
  {
   "cell_type": "markdown",
   "metadata": {},
   "source": [
    "### Cleaning\n",
    "\n",
    "Exclude:\n",
    "- Students that are not from public schoold neither from private\n",
    "- Students that were eliminated in one of the tests\n",
    "- Students that didn't attended one of the tests"
   ]
  },
  {
   "cell_type": "code",
   "execution_count": 6,
   "metadata": {},
   "outputs": [
    {
     "data": {
      "text/plain": [
       "(1881291, 15)"
      ]
     },
     "execution_count": 6,
     "metadata": {},
     "output_type": "execute_result"
    }
   ],
   "source": [
    "data = data[data[\"TP_ESCOLA\"].isin([2, 3])]\n",
    "data[\"PRIVATE_SCHOOL\"] = (data[\"TP_ESCOLA\"] == 3).astype(int)\n",
    "data.shape"
   ]
  },
  {
   "cell_type": "markdown",
   "metadata": {},
   "source": [
    "We're going to exclude the students that didn't one of the tests.\n",
    "\n",
    "Yes, it's going to bias the data, let's check the hypothesis that students from public schools tend to not do the test."
   ]
  },
  {
   "cell_type": "code",
   "execution_count": 7,
   "metadata": {},
   "outputs": [
    {
     "data": {
      "text/plain": [
       "PRESENCA_EM_TODAS\n",
       "0    0.148571\n",
       "1    0.226505\n",
       "Name: PRIVATE_SCHOOL, dtype: float64"
      ]
     },
     "execution_count": 7,
     "metadata": {},
     "output_type": "execute_result"
    }
   ],
   "source": [
    "data[\"PRESENCA_EM_TODAS\"] = 0\n",
    "data.loc[(data[[\"TP_PRESENCA_MT\", \"TP_PRESENCA_LC\", \"TP_PRESENCA_CH\", \"TP_PRESENCA_CN\"]] == 1).all(axis=1) ,\"PRESENCA_EM_TODAS\"] = 1\n",
    "data.groupby(\"PRESENCA_EM_TODAS\").mean()[\"PRIVATE_SCHOOL\"]"
   ]
  },
  {
   "cell_type": "markdown",
   "metadata": {},
   "source": [
    "Indeed, between the group that did all the tests the students from private schools represent 22%, while in the one from prople who didn't attend at least one of the tests they represent ~15%."
   ]
  },
  {
   "cell_type": "code",
   "execution_count": 8,
   "metadata": {},
   "outputs": [
    {
     "data": {
      "text/plain": [
       "(512098, 16)"
      ]
     },
     "execution_count": 8,
     "metadata": {},
     "output_type": "execute_result"
    }
   ],
   "source": [
    "data = data[data[\"PRESENCA_EM_TODAS\"] == 1]\n",
    "data.shape"
   ]
  },
  {
   "cell_type": "code",
   "execution_count": 9,
   "metadata": {},
   "outputs": [
    {
     "name": "stdout",
     "output_type": "stream",
     "text": [
      "Working with 512098 examples\n",
      "The dataset contains 16 columns.\n"
     ]
    }
   ],
   "source": [
    "print(\"Working with {} examples\".format(len(data)))\n",
    "print(\"The dataset contains {} columns.\".format(data.shape[1]))"
   ]
  },
  {
   "cell_type": "markdown",
   "metadata": {},
   "source": [
    "## Preprocessing features\n",
    "\n",
    "We're going to categorize all the features.\n",
    "\n",
    "Also we want to have.\n",
    "\n",
    "\n",
    "- Age (NU_IDADE): Create 5 quantile bins\n",
    "- Region (transformed SG_UF_RESIDENCIA): No transform\n",
    "- Gender (TP_SEXO): No transform\n",
    "- School (TP_ESCOLA): No transform\n",
    "- Skin color (TP_COR_RACA): No transform\n",
    "- Monthly Income (Q006): No transform\n",
    "\n",
    "Variables of interest:\n",
    "- Sciences grade (NU_NOTA_CN)\n",
    "- Human Sciences grade (NU_NOTA_CH)\n",
    "- Language grade (NU_NOTA_LC)\n",
    "- Math grade (NU_NOTA_MT)\n",
    "- Writing grade (NU_NOTA_REDACAO)"
   ]
  },
  {
   "cell_type": "code",
   "execution_count": 10,
   "metadata": {},
   "outputs": [],
   "source": [
    "def one_hot_encoder(df, nan_as_category = True, verbose=False):\n",
    "    original_columns = list(df.columns)\n",
    "    categorical_columns = [col for col in df.columns if df[col].dtype == 'object']\n",
    "    if verbose:\n",
    "        for col in categorical_columns:\n",
    "            print(\"{} has {} unique values\".format(col, len(df[col].unique())))\n",
    "    df = pd.get_dummies(df, columns= categorical_columns, dummy_na= nan_as_category)\n",
    "    new_columns = [c for c in df.columns if c not in original_columns]\n",
    "    return df, new_columns"
   ]
  },
  {
   "cell_type": "code",
   "execution_count": 11,
   "metadata": {},
   "outputs": [],
   "source": [
    "### 1 if white 0 othereise\n",
    "data[\"TP_COR_RACA\"] = data[\"TP_COR_RACA\"].apply(lambda x : 1 if x == 1 else 0)\n",
    "data[\"TP_SEXO\"] = data[\"TP_SEXO\"].apply(lambda x : 1 if x == \"M\" else 0)"
   ]
  },
  {
   "cell_type": "code",
   "execution_count": 12,
   "metadata": {},
   "outputs": [],
   "source": [
    "data[\"TP_COR_RACA\"] = data[\"TP_COR_RACA\"].astype(\"object\")"
   ]
  },
  {
   "cell_type": "code",
   "execution_count": 13,
   "metadata": {},
   "outputs": [
    {
     "data": {
      "text/plain": [
       "NU_IDADE             float64\n",
       "TP_SEXO                int64\n",
       "TP_COR_RACA           object\n",
       "TP_ESCOLA              int64\n",
       "TP_PRESENCA_CN        object\n",
       "TP_PRESENCA_CH       float64\n",
       "TP_PRESENCA_LC       float64\n",
       "TP_PRESENCA_MT       float64\n",
       "NU_NOTA_CN           float64\n",
       "NU_NOTA_CH           float64\n",
       "NU_NOTA_LC           float64\n",
       "NU_NOTA_MT           float64\n",
       "NU_NOTA_REDACAO      float64\n",
       "Q006                  object\n",
       "PRIVATE_SCHOOL         int64\n",
       "PRESENCA_EM_TODAS      int64\n",
       "dtype: object"
      ]
     },
     "execution_count": 13,
     "metadata": {},
     "output_type": "execute_result"
    }
   ],
   "source": [
    "data.dtypes"
   ]
  },
  {
   "cell_type": "code",
   "execution_count": 14,
   "metadata": {},
   "outputs": [
    {
     "data": {
      "text/plain": [
       "Index(['NU_IDADE', 'TP_SEXO', 'TP_COR_RACA', 'TP_ESCOLA', 'TP_PRESENCA_CN',\n",
       "       'TP_PRESENCA_CH', 'TP_PRESENCA_LC', 'TP_PRESENCA_MT', 'NU_NOTA_CN',\n",
       "       'NU_NOTA_CH', 'NU_NOTA_LC', 'NU_NOTA_MT', 'NU_NOTA_REDACAO', 'Q006',\n",
       "       'PRIVATE_SCHOOL', 'PRESENCA_EM_TODAS'],\n",
       "      dtype='object')"
      ]
     },
     "execution_count": 14,
     "metadata": {},
     "output_type": "execute_result"
    }
   ],
   "source": [
    "data.columns"
   ]
  },
  {
   "cell_type": "code",
   "execution_count": 15,
   "metadata": {},
   "outputs": [],
   "source": [
    "data[\"TOTAL_NOTA\"] = data[['NU_NOTA_CH',\n",
    "                           'NU_NOTA_CN', \n",
    "                           'NU_NOTA_LC', \n",
    "                           'NU_NOTA_MT',\n",
    "                           'NU_NOTA_REDACAO']].sum(axis=1)"
   ]
  },
  {
   "cell_type": "code",
   "execution_count": 16,
   "metadata": {},
   "outputs": [
    {
     "data": {
      "text/plain": [
       "Text(0.5, 1.0, 'TOTAL_NOTA distribution')"
      ]
     },
     "execution_count": 16,
     "metadata": {},
     "output_type": "execute_result"
    },
    {
     "data": {
      "image/png": "[encoded data removed]",
      "text/plain": [
       "<Figure size 432x288 with 1 Axes>"
      ]
     },
     "metadata": {
      "needs_background": "light"
     },
     "output_type": "display_data"
    }
   ],
   "source": [
    "### Checking score distribution\n",
    "data[\"TOTAL_NOTA\"].hist()\n",
    "plt.title(\"TOTAL_NOTA distribution\")"
   ]
  },
  {
   "cell_type": "code",
   "execution_count": 17,
   "metadata": {},
   "outputs": [],
   "source": [
    "data.rename(columns={\"Q006\": \"MONTHLY_INCOME\"}, inplace=True)"
   ]
  },
  {
   "cell_type": "code",
   "execution_count": 18,
   "metadata": {},
   "outputs": [],
   "source": [
    "from string import ascii_lowercase\n",
    "\n",
    "label_dict = {}\n",
    "for i, c in enumerate(ascii_lowercase):\n",
    "    label_dict[c.upper()] = i    "
   ]
  },
  {
   "cell_type": "code",
   "execution_count": 19,
   "metadata": {},
   "outputs": [],
   "source": [
    "data[\"MONTHLY_INCOME\"] = data[\"MONTHLY_INCOME\"].apply(lambda x : label_dict.get(x, 0))"
   ]
  },
  {
   "cell_type": "markdown",
   "metadata": {},
   "source": [
    "Age:\n"
   ]
  },
  {
   "cell_type": "code",
   "execution_count": 20,
   "metadata": {},
   "outputs": [],
   "source": [
    "reg_data, new_columns = one_hot_encoder(data[[\"TP_SEXO\",\n",
    "                                        #  \"SG_UF_RESIDENCIA\",\n",
    "                                          \"NU_IDADE\",\n",
    "                                          \"TP_COR_RACA\",\n",
    "                                          \"PRIVATE_SCHOOL\",\n",
    "                                          \"MONTHLY_INCOME\",\n",
    "                                          \"TOTAL_NOTA\"]])"
   ]
  },
  {
   "cell_type": "markdown",
   "metadata": {},
   "source": [
    "### Mean difference"
   ]
  },
  {
   "cell_type": "code",
   "execution_count": 22,
   "metadata": {},
   "outputs": [
    {
     "data": {
      "text/plain": [
       "PRIVATE_SCHOOL\n",
       "0    2540.608546\n",
       "1    2993.670986\n",
       "Name: TOTAL_NOTA, dtype: float64"
      ]
     },
     "execution_count": 22,
     "metadata": {},
     "output_type": "execute_result"
    }
   ],
   "source": [
    "grouped_data = data.groupby(\"PRIVATE_SCHOOL\").mean()[\"TOTAL_NOTA\"]\n",
    "grouped_data"
   ]
  },
  {
   "cell_type": "code",
   "execution_count": 23,
   "metadata": {},
   "outputs": [
    {
     "name": "stdout",
     "output_type": "stream",
     "text": [
      "So we can say that the average difference in grade is 453.06.\n"
     ]
    }
   ],
   "source": [
    "print(\"So we can say that the average difference in grade is {:.2f}.\".format(grouped_data[1] - grouped_data[0]))"
   ]
  },
  {
   "cell_type": "markdown",
   "metadata": {},
   "source": [
    "### Linear Regression"
   ]
  },
  {
   "cell_type": "code",
   "execution_count": 24,
   "metadata": {},
   "outputs": [],
   "source": [
    "from sklearn.model_selection import train_test_split\n",
    "from sklearn.linear_model import LinearRegression\n",
    "from sklearn.metrics import r2_score"
   ]
  },
  {
   "cell_type": "code",
   "execution_count": 25,
   "metadata": {},
   "outputs": [],
   "source": [
    "features = ['NU_IDADE',\n",
    "            'PRIVATE_SCHOOL'] + new_columns\n",
    "\n",
    "target = \"TOTAL_NOTA\""
   ]
  },
  {
   "cell_type": "code",
   "execution_count": 26,
   "metadata": {},
   "outputs": [
    {
     "data": {
      "text/plain": [
       "['NU_IDADE',\n",
       " 'PRIVATE_SCHOOL',\n",
       " 'TP_COR_RACA_0.0',\n",
       " 'TP_COR_RACA_1.0',\n",
       " 'TP_COR_RACA_nan']"
      ]
     },
     "execution_count": 26,
     "metadata": {},
     "output_type": "execute_result"
    }
   ],
   "source": [
    "features"
   ]
  },
  {
   "cell_type": "code",
   "execution_count": 27,
   "metadata": {},
   "outputs": [],
   "source": [
    "X_train, X_test, y_train, y_test = train_test_split(reg_data[features], \n",
    "                                                    reg_data[target],\n",
    "                                                    test_size=0.2,\n",
    "                                                    random_state=42)"
   ]
  },
  {
   "cell_type": "code",
   "execution_count": 28,
   "metadata": {},
   "outputs": [],
   "source": [
    "for feature in features:\n",
    "    X_train[feature].fillna(X_train[feature].median(), inplace=True)\n",
    "    X_test[feature].fillna(X_train[feature].median(), inplace=True)"
   ]
  },
  {
   "cell_type": "code",
   "execution_count": 29,
   "metadata": {},
   "outputs": [
    {
     "name": "stdout",
     "output_type": "stream",
     "text": [
      "Training data shape: (409678, 5)\n",
      "Training target shape (409678,)\n"
     ]
    }
   ],
   "source": [
    "print(\"Training data shape: {}\".format(X_train.shape))\n",
    "print(\"Training target shape {}\".format(y_train.shape))"
   ]
  },
  {
   "cell_type": "code",
   "execution_count": 30,
   "metadata": {},
   "outputs": [],
   "source": [
    "model = LinearRegression(normalize=True)"
   ]
  },
  {
   "cell_type": "code",
   "execution_count": 31,
   "metadata": {},
   "outputs": [
    {
     "data": {
      "text/plain": [
       "LinearRegression(copy_X=True, fit_intercept=True, n_jobs=None, normalize=True)"
      ]
     },
     "execution_count": 31,
     "metadata": {},
     "output_type": "execute_result"
    }
   ],
   "source": [
    "model.fit(X_train, y_train)"
   ]
  },
  {
   "cell_type": "code",
   "execution_count": 32,
   "metadata": {},
   "outputs": [
    {
     "name": "stdout",
     "output_type": "stream",
     "text": [
      "Checking the model predictability power. r2 = 0.26\n"
     ]
    }
   ],
   "source": [
    "print(\"Checking the model predictability power. r2 = {:.2f}\".format(r2_score(y_test, model.predict(X_test))))"
   ]
  },
  {
   "cell_type": "code",
   "execution_count": 33,
   "metadata": {},
   "outputs": [
    {
     "data": {
      "text/plain": [
       "array([-1.91473346e+01,  3.81287497e+02, -3.92532383e+15, -3.92532383e+15,\n",
       "        0.00000000e+00])"
      ]
     },
     "execution_count": 33,
     "metadata": {},
     "output_type": "execute_result"
    }
   ],
   "source": [
    "model.coef_"
   ]
  },
  {
   "cell_type": "code",
   "execution_count": 34,
   "metadata": {},
   "outputs": [
    {
     "name": "stdout",
     "output_type": "stream",
     "text": [
      "The linear regression tells us the impact would be 381.29\n"
     ]
    }
   ],
   "source": [
    "print(\"The linear regression tells us the impact would be {:.2f}\".format(model.coef_[1]))"
   ]
  },
  {
   "cell_type": "markdown",
   "metadata": {},
   "source": [
    "### Causal Structured Model"
   ]
  },
  {
   "cell_type": "code",
   "execution_count": 35,
   "metadata": {},
   "outputs": [],
   "source": [
    "import dowhy\n",
    "from dowhy.do_why import CausalModel"
   ]
  },
  {
   "cell_type": "code",
   "execution_count": 36,
   "metadata": {},
   "outputs": [],
   "source": [
    "from sklearn.preprocessing import LabelEncoder"
   ]
  },
  {
   "cell_type": "code",
   "execution_count": 37,
   "metadata": {},
   "outputs": [],
   "source": [
    "def label_encode(df):\n",
    "    \n",
    "    label_encoding_columns = [col for col in df.columns if df[col].dtype == 'object']\n",
    "    print(\"Label encoding: \")\n",
    "    for col in label_encoding_columns:\n",
    "        print(col)\n",
    "        le = LabelEncoder()\n",
    "\n",
    "        ### Calc mode in the trainset\n",
    "        mode = df[col].mode().values[0]\n",
    "\n",
    "        ### Fill na with mode\n",
    "        df[col].fillna(mode, inplace=True)\n",
    "\n",
    "        ### Fit with test to catch new classes\n",
    "        le.fit(df[col])\n",
    "\n",
    "        ###\n",
    "        df[col] = le.transform(df[col])\n",
    "\n",
    "    return df"
   ]
  },
  {
   "cell_type": "markdown",
   "metadata": {},
   "source": [
    "Label Encoding is bad for Regression (if there's no ordering to be encoded), but here it'd be a pain to use OHE and connect all nodes"
   ]
  },
  {
   "cell_type": "code",
   "execution_count": 38,
   "metadata": {},
   "outputs": [
    {
     "name": "stdout",
     "output_type": "stream",
     "text": [
      "Label encoding: \n",
      "TP_COR_RACA\n",
      "TP_PRESENCA_CN\n"
     ]
    }
   ],
   "source": [
    "scm_data = label_encode(data)"
   ]
  },
  {
   "cell_type": "markdown",
   "metadata": {},
   "source": [
    "```\n",
    "[('PRIVATE_SCHOOL', 'TP_SEXO'),\n",
    " ('PRIVATE_SCHOOL', 'MONTHLY_INCOME'),\n",
    " ('TP_SEXO', 'TOTAL_NOTA'),\n",
    " ('TP_SEXO', 'TP_COR_RACA'),\n",
    " ('TP_SEXO', 'NU_IDADE')]\n",
    "```\n",
    " \n",
    "```\n",
    "[('PRIVATE_SCHOOL', 'NU_IDADE'),\n",
    " ('PRIVATE_SCHOOL', 'TP_SEXO'),\n",
    " ('TP_SEXO', 'TOTAL_NOTA'),\n",
    " ('MONTHLY_INCOME', 'TP_COR_RACA'),\n",
    " ('MONTHLY_INCOME', 'PRIVATE_SCHOOL')]\n",
    "```\n",
    "\n",
    "```\n",
    "[('PRIVATE_SCHOOL', 'TP_COR_RACA'),\n",
    " ('PRIVATE_SCHOOL', 'NU_IDADE'),\n",
    " ('PRIVATE_SCHOOL', 'TP_SEXO'),\n",
    " ('TP_SEXO', 'MONTHLY_INCOME'),\n",
    " ('TP_COR_RACA', 'TOTAL_NOTA')]\n",
    " ```"
   ]
  },
  {
   "cell_type": "markdown",
   "metadata": {},
   "source": [
    "### Using the learned network from BN"
   ]
  },
  {
   "cell_type": "code",
   "execution_count": 50,
   "metadata": {},
   "outputs": [],
   "source": [
    "features = [\"TP_SEXO\",\n",
    "            \"NU_IDADE\",\n",
    "            \"TP_COR_RACA\",\n",
    "            \"PRIVATE_SCHOOL\",\n",
    "            \"MONTHLY_INCOME\"]\n",
    "\n",
    "target = \"TOTAL_NOTA\"\n",
    "\n",
    "scm_data = scm_data[features + [target]]"
   ]
  },
  {
   "cell_type": "code",
   "execution_count": 64,
   "metadata": {},
   "outputs": [
    {
     "name": "stderr",
     "output_type": "stream",
     "text": [
      "/opt/conda/envs/causal/lib/python3.5/site-packages/pandas-0.23.4-py3.5-linux-x86_64.egg/pandas/core/generic.py:5434: SettingWithCopyWarning: \n",
      "A value is trying to be set on a copy of a slice from a DataFrame\n",
      "\n",
      "See the caveats in the documentation: http://pandas.pydata.org/pandas-docs/stable/indexing.html#indexing-view-versus-copy\n",
      "  self._update_inplace(new_data)\n"
     ]
    }
   ],
   "source": [
    "for feature in features + [target]:\n",
    "    scm_data[feature].fillna(scm_data[feature].median(), inplace=True)"
   ]
  },
  {
   "cell_type": "code",
   "execution_count": 51,
   "metadata": {},
   "outputs": [
    {
     "name": "stdout",
     "output_type": "stream",
     "text": [
      "Model to find the causal effect of treatment PRIVATE_SCHOOL on outcome TOTAL_NOTA\n"
     ]
    }
   ],
   "source": [
    "# With graph\n",
    "model=CausalModel(\n",
    "        data = scm_data,\n",
    "        treatment=\"PRIVATE_SCHOOL\",\n",
    "        outcome=\"TOTAL_NOTA\",\n",
    "        graph=\"\"\"graph[directed 1 node[id \"PRIVATE_SCHOOL\" label \"PRIVATE_SCHOOL\"]\n",
    "                    node[id \"TOTAL_NOTA\" label \"TOTAL_NOTA\"]\n",
    "                    node[id \"MONTHLY_INCOME\" label \"MONTHLY_INCOME\"]\n",
    "                    node[id \"NU_IDADE\" label \"NU_IDADE\"]\n",
    "                    node[id \"TP_SEXO\" label \"TP_SEXO\"]                    \n",
    "                    node[id \"TP_COR_RACA\" label \"TP_COR_RACA\"]                    \n",
    "                    edge[source \"MONTHLY_INCOME\" target \"PRIVATE_SCHOOL\"]\n",
    "                    edge[source \"MONTHLY_INCOME\" target \"TP_COR_RACA\"]                    \n",
    "                    edge[source \"MONTHLY_INCOME\" target \"TOTAL_NOTA\"]                                        \n",
    "                    edge[source \"PRIVATE_SCHOOL\" target \"TP_SEXO\"]\n",
    "                    edge[source \"PRIVATE_SCHOOL\" target \"NU_IDADE\"]\n",
    "                    edge[source \"TP_SEXO\" target \"NU_IDADE\"]                    \n",
    "                    edge[source \"TP_SEXO\" target \"TP_COR_RACA\"]\n",
    "                    edge[source \"TOTAL_NOTA\" target \"TP_SEXO\"]\n",
    "                    edge[source \"TOTAL_NOTA\" target \"NU_IDADE\"]\n",
    "                    edge[source \"TOTAL_NOTA\" target \"PRIVATE_SCHOOL\"]                    \n",
    "                    ]\"\"\"\n",
    "        )        "
   ]
  },
  {
   "cell_type": "code",
   "execution_count": 52,
   "metadata": {},
   "outputs": [
    {
     "name": "stdout",
     "output_type": "stream",
     "text": [
      "Warning: Pygraphviz cannot be loaded. Check that graphviz and pygraphviz are installed.\n",
      "Using Matplotlib for plotting\n"
     ]
    },
    {
     "data": {
      "image/png": "[encoded data removed]",
      "text/plain": [
       "<Figure size 432x288 with 1 Axes>"
      ]
     },
     "metadata": {
      "needs_background": "light"
     },
     "output_type": "display_data"
    }
   ],
   "source": [
    "model.view_model()"
   ]
  },
  {
   "cell_type": "code",
   "execution_count": 53,
   "metadata": {},
   "outputs": [
    {
     "name": "stderr",
     "output_type": "stream",
     "text": [
      "INFO:dowhy.causal_identifier:Common causes of treatment and outcome:{'U', 'MONTHLY_INCOME'}\n"
     ]
    },
    {
     "name": "stdout",
     "output_type": "stream",
     "text": [
      "{'label': 'Unobserved Confounders', 'observed': 'no'}\n",
      "There are unobserved common causes. Causal effect cannot be identified.\n",
      "WARN: Do you want to continue by ignoring these unobserved confounders? [y/n] y\n"
     ]
    },
    {
     "name": "stderr",
     "output_type": "stream",
     "text": [
      "INFO:dowhy.causal_identifier:Instrumental variables for treatment and outcome:[]\n"
     ]
    },
    {
     "name": "stdout",
     "output_type": "stream",
     "text": [
      "Estimand type: ate\n",
      "### Estimand : 1\n",
      "Estimand name: iv\n",
      "No such variable found!\n",
      "### Estimand : 2\n",
      "Estimand name: backdoor\n",
      "Estimand expression:\n",
      "       d                                               \n",
      "───────────────(Expectation(TOTAL_NOTA|MONTHLY_INCOME))\n",
      "dPRIVATE_SCHOOL                                        \n",
      "Estimand assumption 1, Unconfoundedness: If U→PRIVATE_SCHOOL and U→TOTAL_NOTA then P(TOTAL_NOTA|PRIVATE_SCHOOL,MONTHLY_INCOME,U) = P(TOTAL_NOTA|PRIVATE_SCHOOL,MONTHLY_INCOME)\n",
      "\n"
     ]
    }
   ],
   "source": [
    "identified_estimand = model.identify_effect()\n",
    "print(identified_estimand)"
   ]
  },
  {
   "cell_type": "markdown",
   "metadata": {},
   "source": [
    "#### Method 1 - Regression"
   ]
  },
  {
   "cell_type": "code",
   "execution_count": 54,
   "metadata": {
    "scrolled": true
   },
   "outputs": [
    {
     "name": "stderr",
     "output_type": "stream",
     "text": [
      "INFO:dowhy.causal_estimator:INFO: Using Linear Regression Estimator\n",
      "INFO:dowhy.causal_estimator:b: TOTAL_NOTA~PRIVATE_SCHOOL+MONTHLY_INCOME\n"
     ]
    },
    {
     "name": "stdout",
     "output_type": "stream",
     "text": [
      "LinearRegressionEstimator\n",
      "*** Causal Estimate ***\n",
      "\n",
      "## Target estimand\n",
      "Estimand type: ate\n",
      "### Estimand : 1\n",
      "Estimand name: iv\n",
      "No such variable found!\n",
      "### Estimand : 2\n",
      "Estimand name: backdoor\n",
      "Estimand expression:\n",
      "       d                                               \n",
      "───────────────(Expectation(TOTAL_NOTA|MONTHLY_INCOME))\n",
      "dPRIVATE_SCHOOL                                        \n",
      "Estimand assumption 1, Unconfoundedness: If U→PRIVATE_SCHOOL and U→TOTAL_NOTA then P(TOTAL_NOTA|PRIVATE_SCHOOL,MONTHLY_INCOME,U) = P(TOTAL_NOTA|PRIVATE_SCHOOL,MONTHLY_INCOME)\n",
      "\n",
      "## Realized estimand\n",
      "b: TOTAL_NOTA~PRIVATE_SCHOOL+MONTHLY_INCOME\n",
      "## Estimate\n",
      "Value: 273.37862381027827\n",
      "\n",
      "## Statistical Significance\n",
      "p-value: 0.0\n",
      "\n",
      "Causal Estimate is 273.37862381027827\n"
     ]
    }
   ],
   "source": [
    "causal_estimate_reg = model.estimate_effect(identified_estimand,\n",
    "        method_name=\"backdoor.linear_regression\",\n",
    "        test_significance=True)\n",
    "print(causal_estimate_reg)\n",
    "print(\"Causal Estimate is \" + str(causal_estimate_reg.value))"
   ]
  },
  {
   "cell_type": "markdown",
   "metadata": {},
   "source": [
    "#### Propesity score stratification"
   ]
  },
  {
   "cell_type": "code",
   "execution_count": 55,
   "metadata": {},
   "outputs": [
    {
     "name": "stderr",
     "output_type": "stream",
     "text": [
      "INFO:dowhy.causal_estimator:INFO: Using Propensity Score Stratification Estimator\n",
      "INFO:dowhy.causal_estimator:b: TOTAL_NOTA~PRIVATE_SCHOOL+MONTHLY_INCOME\n"
     ]
    },
    {
     "name": "stdout",
     "output_type": "stream",
     "text": [
      "PropensityScoreStratificationEstimator\n"
     ]
    },
    {
     "name": "stderr",
     "output_type": "stream",
     "text": [
      "/opt/conda/envs/causal/lib/python3.5/site-packages/dowhy-0.1.0-py3.5.egg/dowhy/causal_estimators/propensity_score_stratification_estimator.py:30: SettingWithCopyWarning: \n",
      "A value is trying to be set on a copy of a slice from a DataFrame.\n",
      "Try using .loc[row_indexer,col_indexer] = value instead\n",
      "\n",
      "See the caveats in the documentation: http://pandas.pydata.org/pandas-docs/stable/indexing.html#indexing-view-versus-copy\n",
      "/opt/conda/envs/causal/lib/python3.5/site-packages/dowhy-0.1.0-py3.5.egg/dowhy/causal_estimators/propensity_score_stratification_estimator.py:37: SettingWithCopyWarning: \n",
      "A value is trying to be set on a copy of a slice from a DataFrame.\n",
      "Try using .loc[row_indexer,col_indexer] = value instead\n",
      "\n",
      "See the caveats in the documentation: http://pandas.pydata.org/pandas-docs/stable/indexing.html#indexing-view-versus-copy\n",
      "/opt/conda/envs/causal/lib/python3.5/site-packages/dowhy-0.1.0-py3.5.egg/dowhy/causal_estimators/propensity_score_stratification_estimator.py:44: SettingWithCopyWarning: \n",
      "A value is trying to be set on a copy of a slice from a DataFrame.\n",
      "Try using .loc[row_indexer,col_indexer] = value instead\n",
      "\n",
      "See the caveats in the documentation: http://pandas.pydata.org/pandas-docs/stable/indexing.html#indexing-view-versus-copy\n",
      "/opt/conda/envs/causal/lib/python3.5/site-packages/dowhy-0.1.0-py3.5.egg/dowhy/causal_estimators/propensity_score_stratification_estimator.py:45: SettingWithCopyWarning: \n",
      "A value is trying to be set on a copy of a slice from a DataFrame.\n",
      "Try using .loc[row_indexer,col_indexer] = value instead\n",
      "\n",
      "See the caveats in the documentation: http://pandas.pydata.org/pandas-docs/stable/indexing.html#indexing-view-versus-copy\n",
      "/opt/conda/envs/causal/lib/python3.5/site-packages/dowhy-0.1.0-py3.5.egg/dowhy/causal_estimators/propensity_score_stratification_estimator.py:46: SettingWithCopyWarning: \n",
      "A value is trying to be set on a copy of a slice from a DataFrame.\n",
      "Try using .loc[row_indexer,col_indexer] = value instead\n",
      "\n",
      "See the caveats in the documentation: http://pandas.pydata.org/pandas-docs/stable/indexing.html#indexing-view-versus-copy\n"
     ]
    },
    {
     "name": "stdout",
     "output_type": "stream",
     "text": [
      "*** Causal Estimate ***\n",
      "\n",
      "## Target estimand\n",
      "Estimand type: ate\n",
      "### Estimand : 1\n",
      "Estimand name: iv\n",
      "No such variable found!\n",
      "### Estimand : 2\n",
      "Estimand name: backdoor\n",
      "Estimand expression:\n",
      "       d                                               \n",
      "───────────────(Expectation(TOTAL_NOTA|MONTHLY_INCOME))\n",
      "dPRIVATE_SCHOOL                                        \n",
      "Estimand assumption 1, Unconfoundedness: If U→PRIVATE_SCHOOL and U→TOTAL_NOTA then P(TOTAL_NOTA|PRIVATE_SCHOOL,MONTHLY_INCOME,U) = P(TOTAL_NOTA|PRIVATE_SCHOOL,MONTHLY_INCOME)\n",
      "\n",
      "## Realized estimand\n",
      "b: TOTAL_NOTA~PRIVATE_SCHOOL+MONTHLY_INCOME\n",
      "## Estimate\n",
      "Value: 283.847668010267\n",
      "\n",
      "Causal Estimate is 283.847668010267\n"
     ]
    }
   ],
   "source": [
    "causal_estimate_strat = model.estimate_effect(identified_estimand,\n",
    "        method_name=\"backdoor.propensity_score_stratification\")\n",
    "print(causal_estimate_strat)\n",
    "print(\"Causal Estimate is \" + str(causal_estimate_strat.value))"
   ]
  },
  {
   "cell_type": "markdown",
   "metadata": {},
   "source": [
    "#### Robustness\n",
    "\n",
    "Three tests to see how robusts the results are:\n",
    "\n",
    "1 - Add a Random Common Cause and measure the effect again (it should be similar)\n",
    "2 - Add a placebo treatment (the effect shouldn't be similar)\n",
    "3 - Use a subset of the data (the effect should be similar)"
   ]
  },
  {
   "cell_type": "code",
   "execution_count": 56,
   "metadata": {},
   "outputs": [
    {
     "name": "stderr",
     "output_type": "stream",
     "text": [
      "INFO:dowhy.causal_estimator:INFO: Using Linear Regression Estimator\n",
      "INFO:dowhy.causal_estimator:b: TOTAL_NOTA~PRIVATE_SCHOOL+MONTHLY_INCOME+w_random\n"
     ]
    },
    {
     "name": "stdout",
     "output_type": "stream",
     "text": [
      "Refute: Add a Random Common Cause\n",
      "Estimated effect:(273.37862381027827,)\n",
      "New effect:(273.37822553781507,)\n",
      "\n"
     ]
    }
   ],
   "source": [
    "res_random=model.refute_estimate(identified_estimand, causal_estimate_reg, method_name=\"random_common_cause\")\n",
    "print(res_random)"
   ]
  },
  {
   "cell_type": "code",
   "execution_count": 57,
   "metadata": {},
   "outputs": [
    {
     "name": "stderr",
     "output_type": "stream",
     "text": [
      "INFO:dowhy.causal_estimator:INFO: Using Linear Regression Estimator\n",
      "INFO:dowhy.causal_estimator:b: TOTAL_NOTA~placebo+MONTHLY_INCOME\n"
     ]
    },
    {
     "name": "stdout",
     "output_type": "stream",
     "text": [
      "Refute: Use a Placebo Treatment\n",
      "Estimated effect:(273.37862381027827,)\n",
      "New effect:(1.062726378241203,)\n",
      "\n"
     ]
    }
   ],
   "source": [
    "res_placebo=model.refute_estimate(identified_estimand, causal_estimate_reg,\n",
    "        method_name=\"placebo_treatment_refuter\", placebo_type=\"permute\")\n",
    "print(res_placebo)"
   ]
  },
  {
   "cell_type": "code",
   "execution_count": 58,
   "metadata": {},
   "outputs": [
    {
     "name": "stderr",
     "output_type": "stream",
     "text": [
      "INFO:dowhy.causal_estimator:INFO: Using Linear Regression Estimator\n",
      "INFO:dowhy.causal_estimator:b: TOTAL_NOTA~PRIVATE_SCHOOL+MONTHLY_INCOME\n"
     ]
    },
    {
     "name": "stdout",
     "output_type": "stream",
     "text": [
      "Refute: Use a subset of data\n",
      "Estimated effect:(273.37862381027827,)\n",
      "New effect:(273.11101911385384,)\n",
      "\n"
     ]
    }
   ],
   "source": [
    "res_subset=model.refute_estimate(identified_estimand, causal_estimate_reg,\n",
    "        method_name=\"data_subset_refuter\", subset_fraction=0.9)\n",
    "print(res_subset)"
   ]
  },
  {
   "cell_type": "markdown",
   "metadata": {},
   "source": [
    "### Changing the causal direction"
   ]
  },
  {
   "cell_type": "code",
   "execution_count": 59,
   "metadata": {},
   "outputs": [
    {
     "name": "stdout",
     "output_type": "stream",
     "text": [
      "Model to find the causal effect of treatment PRIVATE_SCHOOL on outcome TOTAL_NOTA\n"
     ]
    }
   ],
   "source": [
    "# With graph\n",
    "model=CausalModel(\n",
    "        data = scm_data,\n",
    "        treatment=\"PRIVATE_SCHOOL\",\n",
    "        outcome=\"TOTAL_NOTA\",\n",
    "        graph=\"\"\"graph[directed 1 node[id \"PRIVATE_SCHOOL\" label \"PRIVATE_SCHOOL\"]\n",
    "                    node[id \"TOTAL_NOTA\" label \"TOTAL_NOTA\"]\n",
    "                    node[id \"MONTHLY_INCOME\" label \"MONTHLY_INCOME\"]\n",
    "                    node[id \"NU_IDADE\" label \"NU_IDADE\"]\n",
    "                    node[id \"TP_SEXO\" label \"TP_SEXO\"]                    \n",
    "                    node[id \"TP_COR_RACA\" label \"TP_COR_RACA\"]                    \n",
    "                    edge[source \"MONTHLY_INCOME\" target \"PRIVATE_SCHOOL\"]\n",
    "                    edge[source \"TP_COR_RACA\" target \"MONTHLY_INCOME\"]  \n",
    "                    edge[source \"TP_COR_RACA\" target \"PRIVATE_SCHOOL\"]                                        \n",
    "                    edge[source \"MONTHLY_INCOME\" target \"TOTAL_NOTA\"]                                        \n",
    "                    edge[source \"TP_SEXO\" target \"NU_IDADE\"]                    \n",
    "                    edge[source \"TP_SEXO\" target \"TP_COR_RACA\"]\n",
    "                    edge[source \"TP_SEXO\" target \"TOTAL_NOTA\"]\n",
    "                    edge[source \"TP_SEXO\" target \"PRIVATE_SCHOOL\"]   \n",
    "                    edge[source \"NU_IDADE\" target \"PRIVATE_SCHOOL\"]                    \n",
    "                    edge[source \"NU_IDADE\" target \"TOTAL_NOTA\"]                                        \n",
    "                    edge[source \"PRIVATE_SCHOOL\" target \"TOTAL_NOTA\"]                    \n",
    "                    ]\"\"\"\n",
    "        )        "
   ]
  },
  {
   "cell_type": "code",
   "execution_count": 60,
   "metadata": {},
   "outputs": [
    {
     "name": "stdout",
     "output_type": "stream",
     "text": [
      "Warning: Pygraphviz cannot be loaded. Check that graphviz and pygraphviz are installed.\n",
      "Using Matplotlib for plotting\n"
     ]
    },
    {
     "data": {
      "image/png": "[encoded data removed]",
      "text/plain": [
       "<Figure size 432x288 with 1 Axes>"
      ]
     },
     "metadata": {
      "needs_background": "light"
     },
     "output_type": "display_data"
    }
   ],
   "source": [
    "model.view_model()"
   ]
  },
  {
   "cell_type": "code",
   "execution_count": 61,
   "metadata": {},
   "outputs": [
    {
     "name": "stderr",
     "output_type": "stream",
     "text": [
      "INFO:dowhy.causal_identifier:Common causes of treatment and outcome:{'U', 'TP_COR_RACA', 'NU_IDADE', 'MONTHLY_INCOME', 'TP_SEXO'}\n"
     ]
    },
    {
     "name": "stdout",
     "output_type": "stream",
     "text": [
      "{'label': 'Unobserved Confounders', 'observed': 'no'}\n",
      "There are unobserved common causes. Causal effect cannot be identified.\n",
      "WARN: Do you want to continue by ignoring these unobserved confounders? [y/n] n\n"
     ]
    },
    {
     "name": "stderr",
     "output_type": "stream",
     "text": [
      "INFO:dowhy.causal_identifier:Instrumental variables for treatment and outcome:[]\n"
     ]
    },
    {
     "name": "stdout",
     "output_type": "stream",
     "text": [
      "Estimand type: ate\n",
      "### Estimand : 1\n",
      "Estimand name: iv\n",
      "No such variable found!\n",
      "### Estimand : 2\n",
      "Estimand name: backdoor\n",
      "Estimand expression:\n",
      "       d                                                                      \n",
      "───────────────(Expectation(TOTAL_NOTA|TP_COR_RACA,NU_IDADE,MONTHLY_INCOME,TP_\n",
      "dPRIVATE_SCHOOL                                                               \n",
      "\n",
      "      \n",
      "SEXO))\n",
      "      \n",
      "Estimand assumption 1, Unconfoundedness: If U→PRIVATE_SCHOOL and U→TOTAL_NOTA then P(TOTAL_NOTA|PRIVATE_SCHOOL,TP_COR_RACA,NU_IDADE,MONTHLY_INCOME,TP_SEXO,U) = P(TOTAL_NOTA|PRIVATE_SCHOOL,TP_COR_RACA,NU_IDADE,MONTHLY_INCOME,TP_SEXO)\n",
      "\n"
     ]
    }
   ],
   "source": [
    "identified_estimand = model.identify_effect()\n",
    "print(identified_estimand)"
   ]
  },
  {
   "cell_type": "code",
   "execution_count": 65,
   "metadata": {},
   "outputs": [
    {
     "name": "stderr",
     "output_type": "stream",
     "text": [
      "INFO:dowhy.causal_estimator:INFO: Using Linear Regression Estimator\n",
      "INFO:dowhy.causal_estimator:b: TOTAL_NOTA~PRIVATE_SCHOOL+TP_COR_RACA+NU_IDADE+MONTHLY_INCOME+TP_SEXO\n"
     ]
    },
    {
     "name": "stdout",
     "output_type": "stream",
     "text": [
      "LinearRegressionEstimator\n",
      "*** Causal Estimate ***\n",
      "\n",
      "## Target estimand\n",
      "Estimand type: ate\n",
      "### Estimand : 1\n",
      "Estimand name: iv\n",
      "No such variable found!\n",
      "### Estimand : 2\n",
      "Estimand name: backdoor\n",
      "Estimand expression:\n",
      "       d                                                                      \n",
      "───────────────(Expectation(TOTAL_NOTA|TP_COR_RACA,NU_IDADE,MONTHLY_INCOME,TP_\n",
      "dPRIVATE_SCHOOL                                                               \n",
      "\n",
      "      \n",
      "SEXO))\n",
      "      \n",
      "Estimand assumption 1, Unconfoundedness: If U→PRIVATE_SCHOOL and U→TOTAL_NOTA then P(TOTAL_NOTA|PRIVATE_SCHOOL,TP_COR_RACA,NU_IDADE,MONTHLY_INCOME,TP_SEXO,U) = P(TOTAL_NOTA|PRIVATE_SCHOOL,TP_COR_RACA,NU_IDADE,MONTHLY_INCOME,TP_SEXO)\n",
      "\n",
      "## Realized estimand\n",
      "b: TOTAL_NOTA~PRIVATE_SCHOOL+TP_COR_RACA+NU_IDADE+MONTHLY_INCOME+TP_SEXO\n",
      "## Estimate\n",
      "Value: 264.9364558171889\n",
      "\n",
      "## Statistical Significance\n",
      "p-value: 0.0\n",
      "\n",
      "Causal Estimate is 264.9364558171889\n"
     ]
    }
   ],
   "source": [
    "causal_estimate_reg = model.estimate_effect(identified_estimand,\n",
    "        method_name=\"backdoor.linear_regression\",\n",
    "        test_significance=True)\n",
    "print(causal_estimate_reg)\n",
    "print(\"Causal Estimate is \" + str(causal_estimate_reg.value))"
   ]
  },
  {
   "cell_type": "markdown",
   "metadata": {},
   "source": [
    "### Bayesian Network"
   ]
  },
  {
   "cell_type": "code",
   "execution_count": 63,
   "metadata": {},
   "outputs": [],
   "source": [
    "import pgmpy\n",
    "from pgmpy.estimators import BayesianEstimator\n",
    "from pgmpy.estimators import HillClimbSearch, BicScore"
   ]
  },
  {
   "cell_type": "code",
   "execution_count": 64,
   "metadata": {},
   "outputs": [],
   "source": [
    "df = data.sample(frac=1)"
   ]
  },
  {
   "cell_type": "code",
   "execution_count": 65,
   "metadata": {},
   "outputs": [],
   "source": [
    "df[\"NU_IDADE\"] = pd.cut(df[\"NU_IDADE\"], bins=10).astype(\"object\")\n",
    "df[\"TOTAL_NOTA\"] = pd.cut(df[\"TOTAL_NOTA\"], bins=10).astype(\"object\")"
   ]
  },
  {
   "cell_type": "code",
   "execution_count": 66,
   "metadata": {},
   "outputs": [
    {
     "data": {
      "text/plain": [
       "array(['(39.2, 46]', '(11.932, 18.8]', '(32.4, 39.2]', '(18.8, 25.6]',\n",
       "       '(25.6, 32.4]', '(46, 52.8]', '(52.8, 59.6]', '(59.6, 66.4]',\n",
       "       '(66.4, 73.2]', nan, '(73.2, 80]'], dtype=object)"
      ]
     },
     "execution_count": 66,
     "metadata": {},
     "output_type": "execute_result"
    }
   ],
   "source": [
    "df[\"NU_IDADE\"].unique()"
   ]
  },
  {
   "cell_type": "code",
   "execution_count": 73,
   "metadata": {},
   "outputs": [
    {
     "data": {
      "text/plain": [
       "array(['(1905.14, 2299.4]', '(2299.4, 2693.66]', '(2693.66, 3087.92]',\n",
       "       '(3087.92, 3482.18]', '(3482.18, 3876.44]', '(1510.88, 1905.14]',\n",
       "       '(3876.44, 4270.7]', '(1116.62, 1510.88]', '(722.36, 1116.62]',\n",
       "       '(324.157, 722.36]'], dtype=object)"
      ]
     },
     "execution_count": 73,
     "metadata": {},
     "output_type": "execute_result"
    }
   ],
   "source": [
    "df[\"TOTAL_NOTA\"].unique()"
   ]
  },
  {
   "cell_type": "code",
   "execution_count": 74,
   "metadata": {},
   "outputs": [
    {
     "name": "stdout",
     "output_type": "stream",
     "text": [
      "Label encoding: \n",
      "NU_IDADE\n",
      "TP_COR_RACA\n",
      "TP_PRESENCA_CN\n",
      "TOTAL_NOTA\n"
     ]
    }
   ],
   "source": [
    "df = label_encode(df)"
   ]
  },
  {
   "cell_type": "code",
   "execution_count": 75,
   "metadata": {},
   "outputs": [],
   "source": [
    "features = ['MONTHLY_INCOME',\n",
    "            'PRIVATE_SCHOOL'] #+ new_columns\n",
    "\n",
    "features = [\"TP_SEXO\",\n",
    "            \"NU_IDADE\",\n",
    "            \"TP_COR_RACA\",\n",
    "            \"PRIVATE_SCHOOL\",\n",
    "            \"MONTHLY_INCOME\"]\n",
    "\n",
    "target = \"TOTAL_NOTA\""
   ]
  },
  {
   "cell_type": "code",
   "execution_count": 76,
   "metadata": {},
   "outputs": [
    {
     "data": {
      "text/html": [
       "<div>\n",
       "<table border=\"1\" class=\"dataframe\">\n",
       "  <thead>\n",
       "    <tr style=\"text-align: right;\">\n",
       "      <th></th>\n",
       "      <th>TP_SEXO</th>\n",
       "      <th>NU_IDADE</th>\n",
       "      <th>TP_COR_RACA</th>\n",
       "      <th>PRIVATE_SCHOOL</th>\n",
       "      <th>MONTHLY_INCOME</th>\n",
       "      <th>TOTAL_NOTA</th>\n",
       "    </tr>\n",
       "  </thead>\n",
       "  <tbody>\n",
       "    <tr>\n",
       "      <th>1708387</th>\n",
       "      <td>0</td>\n",
       "      <td>4</td>\n",
       "      <td>1</td>\n",
       "      <td>0</td>\n",
       "      <td>2</td>\n",
       "      <td>2</td>\n",
       "    </tr>\n",
       "    <tr>\n",
       "      <th>2136526</th>\n",
       "      <td>1</td>\n",
       "      <td>0</td>\n",
       "      <td>1</td>\n",
       "      <td>0</td>\n",
       "      <td>1</td>\n",
       "      <td>3</td>\n",
       "    </tr>\n",
       "    <tr>\n",
       "      <th>1173924</th>\n",
       "      <td>0</td>\n",
       "      <td>0</td>\n",
       "      <td>1</td>\n",
       "      <td>0</td>\n",
       "      <td>4</td>\n",
       "      <td>3</td>\n",
       "    </tr>\n",
       "    <tr>\n",
       "      <th>1600404</th>\n",
       "      <td>1</td>\n",
       "      <td>0</td>\n",
       "      <td>0</td>\n",
       "      <td>0</td>\n",
       "      <td>2</td>\n",
       "      <td>4</td>\n",
       "    </tr>\n",
       "    <tr>\n",
       "      <th>1526702</th>\n",
       "      <td>0</td>\n",
       "      <td>3</td>\n",
       "      <td>1</td>\n",
       "      <td>0</td>\n",
       "      <td>4</td>\n",
       "      <td>3</td>\n",
       "    </tr>\n",
       "  </tbody>\n",
       "</table>\n",
       "</div>"
      ],
      "text/plain": [
       "         TP_SEXO  NU_IDADE  TP_COR_RACA  PRIVATE_SCHOOL  MONTHLY_INCOME  \\\n",
       "1708387        0         4            1               0               2   \n",
       "2136526        1         0            1               0               1   \n",
       "1173924        0         0            1               0               4   \n",
       "1600404        1         0            0               0               2   \n",
       "1526702        0         3            1               0               4   \n",
       "\n",
       "         TOTAL_NOTA  \n",
       "1708387           2  \n",
       "2136526           3  \n",
       "1173924           3  \n",
       "1600404           4  \n",
       "1526702           3  "
      ]
     },
     "execution_count": 76,
     "metadata": {},
     "output_type": "execute_result"
    }
   ],
   "source": [
    "df = df[features + [target]]\n",
    "df[features + [target]].head()"
   ]
  },
  {
   "cell_type": "code",
   "execution_count": 77,
   "metadata": {},
   "outputs": [],
   "source": [
    "model = HillClimbSearch(df[features+[target]],\n",
    "                        scoring_method=BicScore(df[features + [target]]))"
   ]
  },
  {
   "cell_type": "code",
   "execution_count": 78,
   "metadata": {
    "scrolled": true
   },
   "outputs": [
    {
     "name": "stdout",
     "output_type": "stream",
     "text": [
      "CPU times: user 41.4 s, sys: 23.5 ms, total: 41.4 s\n",
      "Wall time: 41.7 s\n"
     ]
    }
   ],
   "source": [
    "%%time\n",
    "best_model = model.estimate()"
   ]
  },
  {
   "cell_type": "code",
   "execution_count": 79,
   "metadata": {},
   "outputs": [],
   "source": [
    "# import networkx as nx\n",
    "\n",
    "# nx.draw(best_model, with_labels=True, pos=graphviz_layout(best_model))\n",
    "# plt.show()"
   ]
  },
  {
   "cell_type": "code",
   "execution_count": 80,
   "metadata": {
    "scrolled": true
   },
   "outputs": [
    {
     "data": {
      "text/plain": [
       "[('TOTAL_NOTA', 'NU_IDADE'),\n",
       " ('TOTAL_NOTA', 'PRIVATE_SCHOOL'),\n",
       " ('TOTAL_NOTA', 'TP_SEXO'),\n",
       " ('MONTHLY_INCOME', 'TOTAL_NOTA'),\n",
       " ('MONTHLY_INCOME', 'TP_COR_RACA'),\n",
       " ('MONTHLY_INCOME', 'PRIVATE_SCHOOL'),\n",
       " ('PRIVATE_SCHOOL', 'NU_IDADE'),\n",
       " ('PRIVATE_SCHOOL', 'TP_COR_RACA'),\n",
       " ('PRIVATE_SCHOOL', 'TP_SEXO'),\n",
       " ('TP_SEXO', 'TP_COR_RACA'),\n",
       " ('TP_SEXO', 'NU_IDADE')]"
      ]
     },
     "execution_count": 80,
     "metadata": {},
     "output_type": "execute_result"
    }
   ],
   "source": [
    "best_model.edges()"
   ]
  },
  {
   "cell_type": "code",
   "execution_count": 81,
   "metadata": {},
   "outputs": [],
   "source": [
    "from pgmpy.estimators import BayesianEstimator\n",
    "estimator = BayesianEstimator(best_model, df[features + [target]])"
   ]
  },
  {
   "cell_type": "code",
   "execution_count": 82,
   "metadata": {},
   "outputs": [],
   "source": [
    "best_model.fit(df[features + [target]])"
   ]
  },
  {
   "cell_type": "code",
   "execution_count": 83,
   "metadata": {},
   "outputs": [],
   "source": [
    "from pgmpy.inference import VariableElimination\n",
    "enem_infer = VariableElimination(best_model)"
   ]
  },
  {
   "cell_type": "code",
   "execution_count": 84,
   "metadata": {},
   "outputs": [
    {
     "data": {
      "text/plain": [
       "[<TabularCPD representing P(MONTHLY_INCOME:17) at 0x7f2c4255a390>,\n",
       " <TabularCPD representing P(NU_IDADE:10 | PRIVATE_SCHOOL:2, TOTAL_NOTA:10, TP_SEXO:2) at 0x7f2c4255a898>,\n",
       " <TabularCPD representing P(PRIVATE_SCHOOL:2 | MONTHLY_INCOME:17, TOTAL_NOTA:10) at 0x7f2c4254c3c8>,\n",
       " <TabularCPD representing P(TOTAL_NOTA:10 | MONTHLY_INCOME:17) at 0x7f2c4254ce10>,\n",
       " <TabularCPD representing P(TP_COR_RACA:2 | MONTHLY_INCOME:17, PRIVATE_SCHOOL:2, TP_SEXO:2) at 0x7f2c424f6c50>,\n",
       " <TabularCPD representing P(TP_SEXO:2 | PRIVATE_SCHOOL:2, TOTAL_NOTA:10) at 0x7f2cc7e88470>]"
      ]
     },
     "execution_count": 84,
     "metadata": {},
     "output_type": "execute_result"
    }
   ],
   "source": [
    "best_model.get_cpds()"
   ]
  },
  {
   "cell_type": "code",
   "execution_count": 85,
   "metadata": {},
   "outputs": [
    {
     "name": "stdout",
     "output_type": "stream",
     "text": [
      "╒════════════════════╤════════════╕\n",
      "│ MONTHLY_INCOME(0)  │ 0.0223024  │\n",
      "├────────────────────┼────────────┤\n",
      "│ MONTHLY_INCOME(1)  │ 0.218872   │\n",
      "├────────────────────┼────────────┤\n",
      "│ MONTHLY_INCOME(2)  │ 0.222596   │\n",
      "├────────────────────┼────────────┤\n",
      "│ MONTHLY_INCOME(3)  │ 0.119438   │\n",
      "├────────────────────┼────────────┤\n",
      "│ MONTHLY_INCOME(4)  │ 0.0904964  │\n",
      "├────────────────────┼────────────┤\n",
      "│ MONTHLY_INCOME(5)  │ 0.0626443  │\n",
      "├────────────────────┼────────────┤\n",
      "│ MONTHLY_INCOME(6)  │ 0.0724764  │\n",
      "├────────────────────┼────────────┤\n",
      "│ MONTHLY_INCOME(7)  │ 0.0496272  │\n",
      "├────────────────────┼────────────┤\n",
      "│ MONTHLY_INCOME(8)  │ 0.0350616  │\n",
      "├────────────────────┼────────────┤\n",
      "│ MONTHLY_INCOME(9)  │ 0.0237103  │\n",
      "├────────────────────┼────────────┤\n",
      "│ MONTHLY_INCOME(10) │ 0.0137552  │\n",
      "├────────────────────┼────────────┤\n",
      "│ MONTHLY_INCOME(11) │ 0.00778367 │\n",
      "├────────────────────┼────────────┤\n",
      "│ MONTHLY_INCOME(12) │ 0.00902952 │\n",
      "├────────────────────┼────────────┤\n",
      "│ MONTHLY_INCOME(13) │ 0.0152022  │\n",
      "├────────────────────┼────────────┤\n",
      "│ MONTHLY_INCOME(14) │ 0.0121871  │\n",
      "├────────────────────┼────────────┤\n",
      "│ MONTHLY_INCOME(15) │ 0.0102168  │\n",
      "├────────────────────┼────────────┤\n",
      "│ MONTHLY_INCOME(16) │ 0.0146007  │\n",
      "╘════════════════════╧════════════╛\n",
      "╒════════════════╤══════════════════════╤═══════════════════╤═══════════════════════╤═══════════════════════╤═══════════════════════╤════════════════════════╤═══════════════════════╤═══════════════════════╤═══════════════════════╤════════════════════════╤════════════════════════╤════════════════════════╤═══════════════════╤═══════════════════╤═════════════════════╤═════════════════════╤═══════════════════╤═════════════════════╤═══════════════════╤══════════════════════╤═══════════════════╤═══════════════════╤══════════════════════╤══════════════════════╤════════════════════════╤═══════════════════════╤════════════════════════╤════════════════════════╤════════════════════════╤════════════════════════╤══════════════════════╤═══════════════════════╤═══════════════════╤═══════════════════╤══════════════════════╤══════════════════════╤═══════════════════╤══════════════════════╤═════════════════════╤═══════════════════╕\n",
      "│ PRIVATE_SCHOOL │ PRIVATE_SCHOOL(0)    │ PRIVATE_SCHOOL(0) │ PRIVATE_SCHOOL(0)     │ PRIVATE_SCHOOL(0)     │ PRIVATE_SCHOOL(0)     │ PRIVATE_SCHOOL(0)      │ PRIVATE_SCHOOL(0)     │ PRIVATE_SCHOOL(0)     │ PRIVATE_SCHOOL(0)     │ PRIVATE_SCHOOL(0)      │ PRIVATE_SCHOOL(0)      │ PRIVATE_SCHOOL(0)      │ PRIVATE_SCHOOL(0) │ PRIVATE_SCHOOL(0) │ PRIVATE_SCHOOL(0)   │ PRIVATE_SCHOOL(0)   │ PRIVATE_SCHOOL(0) │ PRIVATE_SCHOOL(0)   │ PRIVATE_SCHOOL(0) │ PRIVATE_SCHOOL(0)    │ PRIVATE_SCHOOL(1) │ PRIVATE_SCHOOL(1) │ PRIVATE_SCHOOL(1)    │ PRIVATE_SCHOOL(1)    │ PRIVATE_SCHOOL(1)      │ PRIVATE_SCHOOL(1)     │ PRIVATE_SCHOOL(1)      │ PRIVATE_SCHOOL(1)      │ PRIVATE_SCHOOL(1)      │ PRIVATE_SCHOOL(1)      │ PRIVATE_SCHOOL(1)    │ PRIVATE_SCHOOL(1)     │ PRIVATE_SCHOOL(1) │ PRIVATE_SCHOOL(1) │ PRIVATE_SCHOOL(1)    │ PRIVATE_SCHOOL(1)    │ PRIVATE_SCHOOL(1) │ PRIVATE_SCHOOL(1)    │ PRIVATE_SCHOOL(1)   │ PRIVATE_SCHOOL(1) │\n",
      "├────────────────┼──────────────────────┼───────────────────┼───────────────────────┼───────────────────────┼───────────────────────┼────────────────────────┼───────────────────────┼───────────────────────┼───────────────────────┼────────────────────────┼────────────────────────┼────────────────────────┼───────────────────┼───────────────────┼─────────────────────┼─────────────────────┼───────────────────┼─────────────────────┼───────────────────┼──────────────────────┼───────────────────┼───────────────────┼──────────────────────┼──────────────────────┼────────────────────────┼───────────────────────┼────────────────────────┼────────────────────────┼────────────────────────┼────────────────────────┼──────────────────────┼───────────────────────┼───────────────────┼───────────────────┼──────────────────────┼──────────────────────┼───────────────────┼──────────────────────┼─────────────────────┼───────────────────┤\n",
      "│ TOTAL_NOTA     │ TOTAL_NOTA(0)        │ TOTAL_NOTA(0)     │ TOTAL_NOTA(1)         │ TOTAL_NOTA(1)         │ TOTAL_NOTA(2)         │ TOTAL_NOTA(2)          │ TOTAL_NOTA(3)         │ TOTAL_NOTA(3)         │ TOTAL_NOTA(4)         │ TOTAL_NOTA(4)          │ TOTAL_NOTA(5)          │ TOTAL_NOTA(5)          │ TOTAL_NOTA(6)     │ TOTAL_NOTA(6)     │ TOTAL_NOTA(7)       │ TOTAL_NOTA(7)       │ TOTAL_NOTA(8)     │ TOTAL_NOTA(8)       │ TOTAL_NOTA(9)     │ TOTAL_NOTA(9)        │ TOTAL_NOTA(0)     │ TOTAL_NOTA(0)     │ TOTAL_NOTA(1)        │ TOTAL_NOTA(1)        │ TOTAL_NOTA(2)          │ TOTAL_NOTA(2)         │ TOTAL_NOTA(3)          │ TOTAL_NOTA(3)          │ TOTAL_NOTA(4)          │ TOTAL_NOTA(4)          │ TOTAL_NOTA(5)        │ TOTAL_NOTA(5)         │ TOTAL_NOTA(6)     │ TOTAL_NOTA(6)     │ TOTAL_NOTA(7)        │ TOTAL_NOTA(7)        │ TOTAL_NOTA(8)     │ TOTAL_NOTA(8)        │ TOTAL_NOTA(9)       │ TOTAL_NOTA(9)     │\n",
      "├────────────────┼──────────────────────┼───────────────────┼───────────────────────┼───────────────────────┼───────────────────────┼────────────────────────┼───────────────────────┼───────────────────────┼───────────────────────┼────────────────────────┼────────────────────────┼────────────────────────┼───────────────────┼───────────────────┼─────────────────────┼─────────────────────┼───────────────────┼─────────────────────┼───────────────────┼──────────────────────┼───────────────────┼───────────────────┼──────────────────────┼──────────────────────┼────────────────────────┼───────────────────────┼────────────────────────┼────────────────────────┼────────────────────────┼────────────────────────┼──────────────────────┼───────────────────────┼───────────────────┼───────────────────┼──────────────────────┼──────────────────────┼───────────────────┼──────────────────────┼─────────────────────┼───────────────────┤\n",
      "│ TP_SEXO        │ TP_SEXO(0)           │ TP_SEXO(1)        │ TP_SEXO(0)            │ TP_SEXO(1)            │ TP_SEXO(0)            │ TP_SEXO(1)             │ TP_SEXO(0)            │ TP_SEXO(1)            │ TP_SEXO(0)            │ TP_SEXO(1)             │ TP_SEXO(0)             │ TP_SEXO(1)             │ TP_SEXO(0)        │ TP_SEXO(1)        │ TP_SEXO(0)          │ TP_SEXO(1)          │ TP_SEXO(0)        │ TP_SEXO(1)          │ TP_SEXO(0)        │ TP_SEXO(1)           │ TP_SEXO(0)        │ TP_SEXO(1)        │ TP_SEXO(0)           │ TP_SEXO(1)           │ TP_SEXO(0)             │ TP_SEXO(1)            │ TP_SEXO(0)             │ TP_SEXO(1)             │ TP_SEXO(0)             │ TP_SEXO(1)             │ TP_SEXO(0)           │ TP_SEXO(1)            │ TP_SEXO(0)        │ TP_SEXO(1)        │ TP_SEXO(0)           │ TP_SEXO(1)           │ TP_SEXO(0)        │ TP_SEXO(1)           │ TP_SEXO(0)          │ TP_SEXO(1)        │\n",
      "├────────────────┼──────────────────────┼───────────────────┼───────────────────────┼───────────────────────┼───────────────────────┼────────────────────────┼───────────────────────┼───────────────────────┼───────────────────────┼────────────────────────┼────────────────────────┼────────────────────────┼───────────────────┼───────────────────┼─────────────────────┼─────────────────────┼───────────────────┼─────────────────────┼───────────────────┼──────────────────────┼───────────────────┼───────────────────┼──────────────────────┼──────────────────────┼────────────────────────┼───────────────────────┼────────────────────────┼────────────────────────┼────────────────────────┼────────────────────────┼──────────────────────┼───────────────────────┼───────────────────┼───────────────────┼──────────────────────┼──────────────────────┼───────────────────┼──────────────────────┼─────────────────────┼───────────────────┤\n",
      "│ NU_IDADE(0)    │ 0.4838709677419355   │ 0.46875           │ 0.5566333808844508    │ 0.47635933806146574   │ 0.723016292050083     │ 0.6453197099538563     │ 0.8604962622056639    │ 0.7760592806360944    │ 0.9419792053471965    │ 0.8877620189800813     │ 0.9588562208676945     │ 0.9283204497540407     │ 0.0               │ 0.0               │ 0.9349376114081996  │ 0.9261992619926199  │ 1.0               │ 0.9047619047619048  │ 0.75              │ 0.5882352941176471   │ 1.0               │ 0.75              │ 0.5339805825242718   │ 0.5                  │ 0.7420421661843737     │ 0.6797900262467191    │ 0.9051041941440253     │ 0.848092404620231      │ 0.9709018036072145     │ 0.943147662595127      │ 0.9889300766769918   │ 0.9789746543778802    │ 0.1               │ 0.1               │ 0.9949592290585619   │ 0.9910321213109408   │ 1.0               │ 0.9968895800933126   │ 0.6666666666666666  │ 1.0               │\n",
      "├────────────────┼──────────────────────┼───────────────────┼───────────────────────┼───────────────────────┼───────────────────────┼────────────────────────┼───────────────────────┼───────────────────────┼───────────────────────┼────────────────────────┼────────────────────────┼────────────────────────┼───────────────────┼───────────────────┼─────────────────────┼─────────────────────┼───────────────────┼─────────────────────┼───────────────────┼──────────────────────┼───────────────────┼───────────────────┼──────────────────────┼──────────────────────┼────────────────────────┼───────────────────────┼────────────────────────┼────────────────────────┼────────────────────────┼────────────────────────┼──────────────────────┼───────────────────────┼───────────────────┼───────────────────┼──────────────────────┼──────────────────────┼───────────────────┼──────────────────────┼─────────────────────┼───────────────────┤\n",
      "│ NU_IDADE(1)    │ 0.3655913978494624   │ 0.421875          │ 0.3320970042796006    │ 0.4376477541371158    │ 0.22839040579272893   │ 0.3155570204350692     │ 0.11848929797647746   │ 0.19856908809427185   │ 0.0532677311548459    │ 0.10280008342892898    │ 0.039978486912871994   │ 0.07017367734163237    │ 1.0               │ 1.0               │ 0.06506238859180036 │ 0.07380073800738007 │ 0.0               │ 0.09523809523809523 │ 0.125             │ 0.35294117647058826  │ 0.0               │ 0.25              │ 0.3883495145631068   │ 0.40425531914893614  │ 0.2170318313352625     │ 0.2887139107611549    │ 0.08315747823793194    │ 0.1388402753471007     │ 0.028216432865731462   │ 0.05563727057619748    │ 0.011069923323008175 │ 0.020881336405529954  │ 0.1               │ 0.1               │ 0.005040770941438102 │ 0.008967878689059188 │ 0.0               │ 0.003110419906687403 │ 0.16666666666666666 │ 0.0               │\n",
      "├────────────────┼──────────────────────┼───────────────────┼───────────────────────┼───────────────────────┼───────────────────────┼────────────────────────┼───────────────────────┼───────────────────────┼───────────────────────┼────────────────────────┼────────────────────────┼────────────────────────┼───────────────────┼───────────────────┼─────────────────────┼─────────────────────┼───────────────────┼─────────────────────┼───────────────────┼──────────────────────┼───────────────────┼───────────────────┼──────────────────────┼──────────────────────┼────────────────────────┼───────────────────────┼────────────────────────┼────────────────────────┼────────────────────────┼────────────────────────┼──────────────────────┼───────────────────────┼───────────────────┼───────────────────┼──────────────────────┼──────────────────────┼───────────────────┼──────────────────────┼─────────────────────┼───────────────────┤\n",
      "│ NU_IDADE(2)    │ 0.043010752688172046 │ 0.0               │ 0.039087018544935806  │ 0.040780141843971635  │ 0.02011992759088852   │ 0.01951219512195122    │ 0.009926867476725026  │ 0.012941335617982594  │ 0.0027478648347567768 │ 0.004432161852122223   │ 0.0005378271782000717  │ 0.0009035237425961249  │ 0.0               │ 0.0               │ 0.0                 │ 0.0                 │ 0.0               │ 0.0                 │ 0.025             │ 0.058823529411764705 │ 0.0               │ 0.0               │ 0.019417475728155338 │ 0.05319148936170213  │ 0.01653575857792476    │ 0.014435695538057743  │ 0.005407544183592719   │ 0.006650332516625832   │ 0.0004809619238476954  │ 0.0007674106286372066  │ 0.0                  │ 7.200460829493088e-05 │ 0.1               │ 0.1               │ 0.0                  │ 0.0                  │ 0.0               │ 0.0                  │ 0.0                 │ 0.0               │\n",
      "├────────────────┼──────────────────────┼───────────────────┼───────────────────────┼───────────────────────┼───────────────────────┼────────────────────────┼───────────────────────┼───────────────────────┼───────────────────────┼────────────────────────┼────────────────────────┼────────────────────────┼───────────────────┼───────────────────┼─────────────────────┼─────────────────────┼───────────────────┼─────────────────────┼───────────────────┼──────────────────────┼───────────────────┼───────────────────┼──────────────────────┼──────────────────────┼────────────────────────┼───────────────────────┼────────────────────────┼────────────────────────┼────────────────────────┼────────────────────────┼──────────────────────┼───────────────────────┼───────────────────┼───────────────────┼──────────────────────┼──────────────────────┼───────────────────┼──────────────────────┼─────────────────────┼───────────────────┤\n",
      "│ NU_IDADE(3)    │ 0.043010752688172046 │ 0.046875          │ 0.03366619115549215   │ 0.01979905437352246   │ 0.013633278020817619  │ 0.008239947264337508   │ 0.005698005698005698  │ 0.00607235724699764   │ 0.001058299294467137  │ 0.0026071540306601315  │ 0.00035855145213338117 │ 0.000301174580865375   │ 0.0               │ 0.0               │ 0.0                 │ 0.0                 │ 0.0               │ 0.0                 │ 0.05              │ 0.0                  │ 0.0               │ 0.0               │ 0.009708737864077669 │ 0.031914893617021274 │ 0.009921455146754857   │ 0.007874015748031496  │ 0.002835663413347402   │ 0.003150157507875394   │ 0.00016032064128256512 │ 0.00012790177143953444 │ 0.0                  │ 0.0                   │ 0.1               │ 0.1               │ 0.0                  │ 0.0                  │ 0.0               │ 0.0                  │ 0.0                 │ 0.0               │\n",
      "├────────────────┼──────────────────────┼───────────────────┼───────────────────────┼───────────────────────┼───────────────────────┼────────────────────────┼───────────────────────┼───────────────────────┼───────────────────────┼────────────────────────┼────────────────────────┼────────────────────────┼───────────────────┼───────────────────┼─────────────────────┼─────────────────────┼───────────────────┼─────────────────────┼───────────────────┼──────────────────────┼───────────────────┼───────────────────┼──────────────────────┼──────────────────────┼────────────────────────┼───────────────────────┼────────────────────────┼────────────────────────┼────────────────────────┼────────────────────────┼──────────────────────┼───────────────────────┼───────────────────┼───────────────────┼──────────────────────┼──────────────────────┼───────────────────┼──────────────────────┼─────────────────────┼───────────────────┤\n",
      "│ NU_IDADE(4)    │ 0.043010752688172046 │ 0.015625          │ 0.01825962910128388   │ 0.012411347517730497  │ 0.008070598883692865  │ 0.006163480553724456   │ 0.003214259624516035  │ 0.0035171574153402174 │ 0.0006312662458225028 │ 0.0011471477734904577  │ 0.00017927572606669058 │ 0.00020078305391024997 │ 0.0               │ 0.0               │ 0.0                 │ 0.0                 │ 0.0               │ 0.0                 │ 0.025             │ 0.0                  │ 0.0               │ 0.0               │ 0.02912621359223301  │ 0.0                  │ 0.0062009094667217855  │ 0.005249343832020997  │ 0.002439989448694276   │ 0.0021001050052502626  │ 0.00016032064128256512 │ 6.395088571976722e-05  │ 0.0                  │ 7.200460829493088e-05 │ 0.1               │ 0.1               │ 0.0                  │ 0.0                  │ 0.0               │ 0.0                  │ 0.16666666666666666 │ 0.0               │\n",
      "├────────────────┼──────────────────────┼───────────────────┼───────────────────────┼───────────────────────┼───────────────────────┼────────────────────────┼───────────────────────┼───────────────────────┼───────────────────────┼────────────────────────┼────────────────────────┼────────────────────────┼───────────────────┼───────────────────┼─────────────────────┼─────────────────────┼───────────────────┼─────────────────────┼───────────────────┼──────────────────────┼───────────────────┼───────────────────┼──────────────────────┼──────────────────────┼────────────────────────┼───────────────────────┼────────────────────────┼────────────────────────┼────────────────────────┼────────────────────────┼──────────────────────┼───────────────────────┼───────────────────┼───────────────────┼──────────────────────┼──────────────────────┼───────────────────┼──────────────────────┼─────────────────────┼───────────────────┤\n",
      "│ NU_IDADE(5)    │ 0.021505376344086023 │ 0.0               │ 0.015406562054208274  │ 0.00591016548463357   │ 0.004299290994116759  │ 0.003065260382333553   │ 0.0012824571229129633 │ 0.0017736092949151524 │ 0.0002784998143334571 │ 0.0008603608301178434  │ 8.963786303334529e-05  │ 0.00010039152695512498 │ 0.0               │ 0.0               │ 0.0                 │ 0.0                 │ 0.0               │ 0.0                 │ 0.025             │ 0.0                  │ 0.0               │ 0.0               │ 0.009708737864077669 │ 0.0                  │ 0.005374121537825548   │ 0.0026246719160104987 │ 0.0005935109469796888  │ 0.0008167075020417688  │ 8.016032064128256e-05  │ 0.0                    │ 0.0                  │ 0.0                   │ 0.1               │ 0.1               │ 0.0                  │ 0.0                  │ 0.0               │ 0.0                  │ 0.0                 │ 0.0               │\n",
      "├────────────────┼──────────────────────┼───────────────────┼───────────────────────┼───────────────────────┼───────────────────────┼────────────────────────┼───────────────────────┼───────────────────────┼───────────────────────┼────────────────────────┼────────────────────────┼────────────────────────┼───────────────────┼───────────────────┼─────────────────────┼─────────────────────┼───────────────────┼─────────────────────┼───────────────────┼──────────────────────┼───────────────────┼───────────────────┼──────────────────────┼──────────────────────┼────────────────────────┼───────────────────────┼────────────────────────┼────────────────────────┼────────────────────────┼────────────────────────┼──────────────────────┼───────────────────────┼───────────────────┼───────────────────┼──────────────────────┼──────────────────────┼───────────────────┼──────────────────────┼─────────────────────┼───────────────────┤\n",
      "│ NU_IDADE(6)    │ 0.0                  │ 0.015625          │ 0.003138373751783167  │ 0.004432624113475178  │ 0.0018479408658922914 │ 0.0013513513513513514  │ 0.000762980819960877  │ 0.0007214681877620959 │ 3.713330857779428e-05 │ 0.00031285848367921577 │ 0.0                    │ 0.0                    │ 0.0               │ 0.0               │ 0.0                 │ 0.0                 │ 0.0               │ 0.0                 │ 0.0               │ 0.0                  │ 0.0               │ 0.0               │ 0.009708737864077669 │ 0.010638297872340425 │ 0.0024803637866887144  │ 0.0006561679790026247 │ 0.0003297283038776049  │ 0.0                    │ 0.0                    │ 0.00019185265715930165 │ 0.0                  │ 0.0                   │ 0.1               │ 0.1               │ 0.0                  │ 0.0                  │ 0.0               │ 0.0                  │ 0.0                 │ 0.0               │\n",
      "├────────────────┼──────────────────────┼───────────────────┼───────────────────────┼───────────────────────┼───────────────────────┼────────────────────────┼───────────────────────┼───────────────────────┼───────────────────────┼────────────────────────┼────────────────────────┼────────────────────────┼───────────────────┼───────────────────┼─────────────────────┼─────────────────────┼───────────────────┼─────────────────────┼───────────────────┼──────────────────────┼───────────────────┼───────────────────┼──────────────────────┼──────────────────────┼────────────────────────┼───────────────────────┼────────────────────────┼────────────────────────┼────────────────────────┼────────────────────────┼──────────────────────┼───────────────────────┼───────────────────┼───────────────────┼──────────────────────┼──────────────────────┼───────────────────┼──────────────────────┼─────────────────────┼───────────────────┤\n",
      "│ NU_IDADE(7)    │ 0.0                  │ 0.03125           │ 0.0017118402282453639 │ 0.0017730496453900709 │ 0.0005845527228842963 │ 0.0005273566249176005  │ 0.0001136354412707689 │ 0.0002855811576558296 │ 0.0                   │ 5.214308061320263e-05  │ 0.0                    │ 0.0                    │ 0.0               │ 0.0               │ 0.0                 │ 0.0                 │ 0.0               │ 0.0                 │ 0.0               │ 0.0                  │ 0.0               │ 0.0               │ 0.0                  │ 0.0                  │ 0.00041339396444811904 │ 0.0006561679790026247 │ 0.00013189132155104195 │ 0.0002333450005833625  │ 0.0                    │ 6.395088571976722e-05  │ 0.0                  │ 0.0                   │ 0.1               │ 0.1               │ 0.0                  │ 0.0                  │ 0.0               │ 0.0                  │ 0.0                 │ 0.0               │\n",
      "├────────────────┼──────────────────────┼───────────────────┼───────────────────────┼───────────────────────┼───────────────────────┼────────────────────────┼───────────────────────┼───────────────────────┼───────────────────────┼────────────────────────┼────────────────────────┼────────────────────────┼───────────────────┼───────────────────┼─────────────────────┼─────────────────────┼───────────────────┼─────────────────────┼───────────────────┼──────────────────────┼───────────────────┼───────────────────┼──────────────────────┼──────────────────────┼────────────────────────┼───────────────────────┼────────────────────────┼────────────────────────┼────────────────────────┼────────────────────────┼──────────────────────┼───────────────────────┼───────────────────┼───────────────────┼──────────────────────┼──────────────────────┼───────────────────┼──────────────────────┼─────────────────────┼───────────────────┤\n",
      "│ NU_IDADE(8)    │ 0.0                  │ 0.0               │ 0.0                   │ 0.0008865248226950354 │ 3.771307889576105e-05 │ 0.00023071852340145023 │ 1.62336344672527e-05  │ 6.012234898017466e-05 │ 0.0                   │ 2.6071540306601314e-05 │ 0.0                    │ 0.0                    │ 0.0               │ 0.0               │ 0.0                 │ 0.0                 │ 0.0               │ 0.0                 │ 0.0               │ 0.0                  │ 0.0               │ 0.0               │ 0.0                  │ 0.0                  │ 0.0                    │ 0.0                   │ 0.0                    │ 0.00011667250029168125 │ 0.0                    │ 0.0                    │ 0.0                  │ 0.0                   │ 0.1               │ 0.1               │ 0.0                  │ 0.0                  │ 0.0               │ 0.0                  │ 0.0                 │ 0.0               │\n",
      "├────────────────┼──────────────────────┼───────────────────┼───────────────────────┼───────────────────────┼───────────────────────┼────────────────────────┼───────────────────────┼───────────────────────┼───────────────────────┼────────────────────────┼────────────────────────┼────────────────────────┼───────────────────┼───────────────────┼─────────────────────┼─────────────────────┼───────────────────┼─────────────────────┼───────────────────┼──────────────────────┼───────────────────┼───────────────────┼──────────────────────┼──────────────────────┼────────────────────────┼───────────────────────┼────────────────────────┼────────────────────────┼────────────────────────┼────────────────────────┼──────────────────────┼───────────────────────┼───────────────────┼───────────────────┼──────────────────────┼──────────────────────┼───────────────────┼──────────────────────┼─────────────────────┼───────────────────┤\n",
      "│ NU_IDADE(9)    │ 0.0                  │ 0.0               │ 0.0                   │ 0.0                   │ 0.0                   │ 3.295978905735003e-05  │ 0.0                   │ 0.0                   │ 0.0                   │ 0.0                    │ 0.0                    │ 0.0                    │ 0.0               │ 0.0               │ 0.0                 │ 0.0                 │ 0.0               │ 0.0                 │ 0.0               │ 0.0                  │ 0.0               │ 0.0               │ 0.0                  │ 0.0                  │ 0.0                    │ 0.0                   │ 0.0                    │ 0.0                    │ 0.0                    │ 0.0                    │ 0.0                  │ 0.0                   │ 0.1               │ 0.1               │ 0.0                  │ 0.0                  │ 0.0               │ 0.0                  │ 0.0                 │ 0.0               │\n",
      "╘════════════════╧══════════════════════╧═══════════════════╧═══════════════════════╧═══════════════════════╧═══════════════════════╧════════════════════════╧═══════════════════════╧═══════════════════════╧═══════════════════════╧════════════════════════╧════════════════════════╧════════════════════════╧═══════════════════╧═══════════════════╧═════════════════════╧═════════════════════╧═══════════════════╧═════════════════════╧═══════════════════╧══════════════════════╧═══════════════════╧═══════════════════╧══════════════════════╧══════════════════════╧════════════════════════╧═══════════════════════╧════════════════════════╧════════════════════════╧════════════════════════╧════════════════════════╧══════════════════════╧═══════════════════════╧═══════════════════╧═══════════════════╧══════════════════════╧══════════════════════╧═══════════════════╧══════════════════════╧═════════════════════╧═══════════════════╛\n",
      "╒═══════════════════╤══════════════════════╤══════════════════════╤══════════════════════╤══════════════════════╤═════════════════════╤═════════════════════╤═══════════════════╤═══════════════════╤═══════════════════╤═══════════════════╤═══════════════════╤═════════════════════╤══════════════════════╤═════════════════════╤═════════════════════╤═════════════════════╤═══════════════════╤════════════════════╤═════════════════════╤═══════════════════╤══════════════════════╤═════════════════════╤══════════════════════╤═════════════════════╤═════════════════════╤════════════════════╤═══════════════════╤════════════════════╤═════════════════════╤═════════════════════╤═════════════════════╤═════════════════════╤════════════════════╤═════════════════════╤═══════════════════╤════════════════════╤═══════════════════╤════════════════════╤═════════════════════╤═══════════════════╤═══════════════════╤══════════════════════╤═════════════════════╤═════════════════════╤════════════════════╤════════════════════╤═══════════════════╤═════════════════════╤═════════════════════╤═══════════════════╤═══════════════════╤═════════════════════╤═════════════════════╤═════════════════════╤════════════════════╤═══════════════════╤═══════════════════╤════════════════════╤═════════════════════╤═══════════════════╤═══════════════════╤═════════════════════╤═════════════════════╤═════════════════════╤════════════════════╤═══════════════════╤═══════════════════╤════════════════════╤═════════════════════╤═══════════════════╤═══════════════════╤════════════════════╤════════════════════╤════════════════════╤════════════════════╤═════════════════════╤═══════════════════╤═════════════════════╤═══════════════════╤═══════════════════╤═══════════════════╤═════════════════════╤═════════════════════╤════════════════════╤═════════════════════╤═════════════════════╤═══════════════════╤═════════════════════╤═════════════════════╤═══════════════════╤═══════════════════╤═════════════════════╤═════════════════════╤════════════════════╤═════════════════════╤═════════════════════╤═══════════════════╤═════════════════════╤═════════════════════╤═══════════════════╤════════════════════╤════════════════════╤════════════════════╤════════════════════╤════════════════════╤═════════════════════╤════════════════════╤═════════════════════╤══════════════════════╤════════════════════╤════════════════════╤═════════════════════╤═════════════════════╤════════════════════╤════════════════════╤═════════════════════╤════════════════════╤═════════════════════╤═════════════════════╤════════════════════╤════════════════════╤════════════════════╤════════════════════╤════════════════════╤═════════════════════╤════════════════════╤════════════════════╤═════════════════════╤══════════════════════╤════════════════════╤════════════════════╤════════════════════╤═════════════════════╤═════════════════════╤═════════════════════╤═════════════════════╤════════════════════╤═════════════════════╤═════════════════════╤════════════════════╤════════════════════╤════════════════════╤═════════════════════╤═════════════════════╤═════════════════════╤═════════════════════╤════════════════════╤═════════════════════╤═════════════════════╤════════════════════╤════════════════════╤════════════════════╤════════════════════╤════════════════════╤═════════════════════╤═════════════════════╤════════════════════╤════════════════════╤════════════════════╤════════════════════╤════════════════════╤════════════════════╤════════════════════╤════════════════════╤═════════════════════╤════════════════════╤════════════════════╤═════════════════════╤═════════════════════╤════════════════════╕\n",
      "│ MONTHLY_INCOME    │ MONTHLY_INCOME(0)    │ MONTHLY_INCOME(0)    │ MONTHLY_INCOME(0)    │ MONTHLY_INCOME(0)    │ MONTHLY_INCOME(0)   │ MONTHLY_INCOME(0)   │ MONTHLY_INCOME(0) │ MONTHLY_INCOME(0) │ MONTHLY_INCOME(0) │ MONTHLY_INCOME(0) │ MONTHLY_INCOME(1) │ MONTHLY_INCOME(1)   │ MONTHLY_INCOME(1)    │ MONTHLY_INCOME(1)   │ MONTHLY_INCOME(1)   │ MONTHLY_INCOME(1)   │ MONTHLY_INCOME(1) │ MONTHLY_INCOME(1)  │ MONTHLY_INCOME(1)   │ MONTHLY_INCOME(1) │ MONTHLY_INCOME(2)    │ MONTHLY_INCOME(2)   │ MONTHLY_INCOME(2)    │ MONTHLY_INCOME(2)   │ MONTHLY_INCOME(2)   │ MONTHLY_INCOME(2)  │ MONTHLY_INCOME(2) │ MONTHLY_INCOME(2)  │ MONTHLY_INCOME(2)   │ MONTHLY_INCOME(2)   │ MONTHLY_INCOME(3)   │ MONTHLY_INCOME(3)   │ MONTHLY_INCOME(3)  │ MONTHLY_INCOME(3)   │ MONTHLY_INCOME(3) │ MONTHLY_INCOME(3)  │ MONTHLY_INCOME(3) │ MONTHLY_INCOME(3)  │ MONTHLY_INCOME(3)   │ MONTHLY_INCOME(3) │ MONTHLY_INCOME(4) │ MONTHLY_INCOME(4)    │ MONTHLY_INCOME(4)   │ MONTHLY_INCOME(4)   │ MONTHLY_INCOME(4)  │ MONTHLY_INCOME(4)  │ MONTHLY_INCOME(4) │ MONTHLY_INCOME(4)   │ MONTHLY_INCOME(4)   │ MONTHLY_INCOME(4) │ MONTHLY_INCOME(5) │ MONTHLY_INCOME(5)   │ MONTHLY_INCOME(5)   │ MONTHLY_INCOME(5)   │ MONTHLY_INCOME(5)  │ MONTHLY_INCOME(5) │ MONTHLY_INCOME(5) │ MONTHLY_INCOME(5)  │ MONTHLY_INCOME(5)   │ MONTHLY_INCOME(5) │ MONTHLY_INCOME(6) │ MONTHLY_INCOME(6)   │ MONTHLY_INCOME(6)   │ MONTHLY_INCOME(6)   │ MONTHLY_INCOME(6)  │ MONTHLY_INCOME(6) │ MONTHLY_INCOME(6) │ MONTHLY_INCOME(6)  │ MONTHLY_INCOME(6)   │ MONTHLY_INCOME(6) │ MONTHLY_INCOME(7) │ MONTHLY_INCOME(7)  │ MONTHLY_INCOME(7)  │ MONTHLY_INCOME(7)  │ MONTHLY_INCOME(7)  │ MONTHLY_INCOME(7)   │ MONTHLY_INCOME(7) │ MONTHLY_INCOME(7)   │ MONTHLY_INCOME(7) │ MONTHLY_INCOME(7) │ MONTHLY_INCOME(8) │ MONTHLY_INCOME(8)   │ MONTHLY_INCOME(8)   │ MONTHLY_INCOME(8)  │ MONTHLY_INCOME(8)   │ MONTHLY_INCOME(8)   │ MONTHLY_INCOME(8) │ MONTHLY_INCOME(8)   │ MONTHLY_INCOME(8)   │ MONTHLY_INCOME(8) │ MONTHLY_INCOME(9) │ MONTHLY_INCOME(9)   │ MONTHLY_INCOME(9)   │ MONTHLY_INCOME(9)  │ MONTHLY_INCOME(9)   │ MONTHLY_INCOME(9)   │ MONTHLY_INCOME(9) │ MONTHLY_INCOME(9)   │ MONTHLY_INCOME(9)   │ MONTHLY_INCOME(9) │ MONTHLY_INCOME(10) │ MONTHLY_INCOME(10) │ MONTHLY_INCOME(10) │ MONTHLY_INCOME(10) │ MONTHLY_INCOME(10) │ MONTHLY_INCOME(10)  │ MONTHLY_INCOME(10) │ MONTHLY_INCOME(10)  │ MONTHLY_INCOME(10)   │ MONTHLY_INCOME(10) │ MONTHLY_INCOME(11) │ MONTHLY_INCOME(11)  │ MONTHLY_INCOME(11)  │ MONTHLY_INCOME(11) │ MONTHLY_INCOME(11) │ MONTHLY_INCOME(11)  │ MONTHLY_INCOME(11) │ MONTHLY_INCOME(11)  │ MONTHLY_INCOME(11)  │ MONTHLY_INCOME(11) │ MONTHLY_INCOME(12) │ MONTHLY_INCOME(12) │ MONTHLY_INCOME(12) │ MONTHLY_INCOME(12) │ MONTHLY_INCOME(12)  │ MONTHLY_INCOME(12) │ MONTHLY_INCOME(12) │ MONTHLY_INCOME(12)  │ MONTHLY_INCOME(12)   │ MONTHLY_INCOME(12) │ MONTHLY_INCOME(13) │ MONTHLY_INCOME(13) │ MONTHLY_INCOME(13)  │ MONTHLY_INCOME(13)  │ MONTHLY_INCOME(13)  │ MONTHLY_INCOME(13)  │ MONTHLY_INCOME(13) │ MONTHLY_INCOME(13)  │ MONTHLY_INCOME(13)  │ MONTHLY_INCOME(13) │ MONTHLY_INCOME(14) │ MONTHLY_INCOME(14) │ MONTHLY_INCOME(14)  │ MONTHLY_INCOME(14)  │ MONTHLY_INCOME(14)  │ MONTHLY_INCOME(14)  │ MONTHLY_INCOME(14) │ MONTHLY_INCOME(14)  │ MONTHLY_INCOME(14)  │ MONTHLY_INCOME(14) │ MONTHLY_INCOME(15) │ MONTHLY_INCOME(15) │ MONTHLY_INCOME(15) │ MONTHLY_INCOME(15) │ MONTHLY_INCOME(15)  │ MONTHLY_INCOME(15)  │ MONTHLY_INCOME(15) │ MONTHLY_INCOME(15) │ MONTHLY_INCOME(15) │ MONTHLY_INCOME(15) │ MONTHLY_INCOME(16) │ MONTHLY_INCOME(16) │ MONTHLY_INCOME(16) │ MONTHLY_INCOME(16) │ MONTHLY_INCOME(16)  │ MONTHLY_INCOME(16) │ MONTHLY_INCOME(16) │ MONTHLY_INCOME(16)  │ MONTHLY_INCOME(16)  │ MONTHLY_INCOME(16) │\n",
      "├───────────────────┼──────────────────────┼──────────────────────┼──────────────────────┼──────────────────────┼─────────────────────┼─────────────────────┼───────────────────┼───────────────────┼───────────────────┼───────────────────┼───────────────────┼─────────────────────┼──────────────────────┼─────────────────────┼─────────────────────┼─────────────────────┼───────────────────┼────────────────────┼─────────────────────┼───────────────────┼──────────────────────┼─────────────────────┼──────────────────────┼─────────────────────┼─────────────────────┼────────────────────┼───────────────────┼────────────────────┼─────────────────────┼─────────────────────┼─────────────────────┼─────────────────────┼────────────────────┼─────────────────────┼───────────────────┼────────────────────┼───────────────────┼────────────────────┼─────────────────────┼───────────────────┼───────────────────┼──────────────────────┼─────────────────────┼─────────────────────┼────────────────────┼────────────────────┼───────────────────┼─────────────────────┼─────────────────────┼───────────────────┼───────────────────┼─────────────────────┼─────────────────────┼─────────────────────┼────────────────────┼───────────────────┼───────────────────┼────────────────────┼─────────────────────┼───────────────────┼───────────────────┼─────────────────────┼─────────────────────┼─────────────────────┼────────────────────┼───────────────────┼───────────────────┼────────────────────┼─────────────────────┼───────────────────┼───────────────────┼────────────────────┼────────────────────┼────────────────────┼────────────────────┼─────────────────────┼───────────────────┼─────────────────────┼───────────────────┼───────────────────┼───────────────────┼─────────────────────┼─────────────────────┼────────────────────┼─────────────────────┼─────────────────────┼───────────────────┼─────────────────────┼─────────────────────┼───────────────────┼───────────────────┼─────────────────────┼─────────────────────┼────────────────────┼─────────────────────┼─────────────────────┼───────────────────┼─────────────────────┼─────────────────────┼───────────────────┼────────────────────┼────────────────────┼────────────────────┼────────────────────┼────────────────────┼─────────────────────┼────────────────────┼─────────────────────┼──────────────────────┼────────────────────┼────────────────────┼─────────────────────┼─────────────────────┼────────────────────┼────────────────────┼─────────────────────┼────────────────────┼─────────────────────┼─────────────────────┼────────────────────┼────────────────────┼────────────────────┼────────────────────┼────────────────────┼─────────────────────┼────────────────────┼────────────────────┼─────────────────────┼──────────────────────┼────────────────────┼────────────────────┼────────────────────┼─────────────────────┼─────────────────────┼─────────────────────┼─────────────────────┼────────────────────┼─────────────────────┼─────────────────────┼────────────────────┼────────────────────┼────────────────────┼─────────────────────┼─────────────────────┼─────────────────────┼─────────────────────┼────────────────────┼─────────────────────┼─────────────────────┼────────────────────┼────────────────────┼────────────────────┼────────────────────┼────────────────────┼─────────────────────┼─────────────────────┼────────────────────┼────────────────────┼────────────────────┼────────────────────┼────────────────────┼────────────────────┼────────────────────┼────────────────────┼─────────────────────┼────────────────────┼────────────────────┼─────────────────────┼─────────────────────┼────────────────────┤\n",
      "│ TOTAL_NOTA        │ TOTAL_NOTA(0)        │ TOTAL_NOTA(1)        │ TOTAL_NOTA(2)        │ TOTAL_NOTA(3)        │ TOTAL_NOTA(4)       │ TOTAL_NOTA(5)       │ TOTAL_NOTA(6)     │ TOTAL_NOTA(7)     │ TOTAL_NOTA(8)     │ TOTAL_NOTA(9)     │ TOTAL_NOTA(0)     │ TOTAL_NOTA(1)       │ TOTAL_NOTA(2)        │ TOTAL_NOTA(3)       │ TOTAL_NOTA(4)       │ TOTAL_NOTA(5)       │ TOTAL_NOTA(6)     │ TOTAL_NOTA(7)      │ TOTAL_NOTA(8)       │ TOTAL_NOTA(9)     │ TOTAL_NOTA(0)        │ TOTAL_NOTA(1)       │ TOTAL_NOTA(2)        │ TOTAL_NOTA(3)       │ TOTAL_NOTA(4)       │ TOTAL_NOTA(5)      │ TOTAL_NOTA(6)     │ TOTAL_NOTA(7)      │ TOTAL_NOTA(8)       │ TOTAL_NOTA(9)       │ TOTAL_NOTA(0)       │ TOTAL_NOTA(1)       │ TOTAL_NOTA(2)      │ TOTAL_NOTA(3)       │ TOTAL_NOTA(4)     │ TOTAL_NOTA(5)      │ TOTAL_NOTA(6)     │ TOTAL_NOTA(7)      │ TOTAL_NOTA(8)       │ TOTAL_NOTA(9)     │ TOTAL_NOTA(0)     │ TOTAL_NOTA(1)        │ TOTAL_NOTA(2)       │ TOTAL_NOTA(3)       │ TOTAL_NOTA(4)      │ TOTAL_NOTA(5)      │ TOTAL_NOTA(6)     │ TOTAL_NOTA(7)       │ TOTAL_NOTA(8)       │ TOTAL_NOTA(9)     │ TOTAL_NOTA(0)     │ TOTAL_NOTA(1)       │ TOTAL_NOTA(2)       │ TOTAL_NOTA(3)       │ TOTAL_NOTA(4)      │ TOTAL_NOTA(5)     │ TOTAL_NOTA(6)     │ TOTAL_NOTA(7)      │ TOTAL_NOTA(8)       │ TOTAL_NOTA(9)     │ TOTAL_NOTA(0)     │ TOTAL_NOTA(1)       │ TOTAL_NOTA(2)       │ TOTAL_NOTA(3)       │ TOTAL_NOTA(4)      │ TOTAL_NOTA(5)     │ TOTAL_NOTA(6)     │ TOTAL_NOTA(7)      │ TOTAL_NOTA(8)       │ TOTAL_NOTA(9)     │ TOTAL_NOTA(0)     │ TOTAL_NOTA(1)      │ TOTAL_NOTA(2)      │ TOTAL_NOTA(3)      │ TOTAL_NOTA(4)      │ TOTAL_NOTA(5)       │ TOTAL_NOTA(6)     │ TOTAL_NOTA(7)       │ TOTAL_NOTA(8)     │ TOTAL_NOTA(9)     │ TOTAL_NOTA(0)     │ TOTAL_NOTA(1)       │ TOTAL_NOTA(2)       │ TOTAL_NOTA(3)      │ TOTAL_NOTA(4)       │ TOTAL_NOTA(5)       │ TOTAL_NOTA(6)     │ TOTAL_NOTA(7)       │ TOTAL_NOTA(8)       │ TOTAL_NOTA(9)     │ TOTAL_NOTA(0)     │ TOTAL_NOTA(1)       │ TOTAL_NOTA(2)       │ TOTAL_NOTA(3)      │ TOTAL_NOTA(4)       │ TOTAL_NOTA(5)       │ TOTAL_NOTA(6)     │ TOTAL_NOTA(7)       │ TOTAL_NOTA(8)       │ TOTAL_NOTA(9)     │ TOTAL_NOTA(0)      │ TOTAL_NOTA(1)      │ TOTAL_NOTA(2)      │ TOTAL_NOTA(3)      │ TOTAL_NOTA(4)      │ TOTAL_NOTA(5)       │ TOTAL_NOTA(6)      │ TOTAL_NOTA(7)       │ TOTAL_NOTA(8)        │ TOTAL_NOTA(9)      │ TOTAL_NOTA(0)      │ TOTAL_NOTA(1)       │ TOTAL_NOTA(2)       │ TOTAL_NOTA(3)      │ TOTAL_NOTA(4)      │ TOTAL_NOTA(5)       │ TOTAL_NOTA(6)      │ TOTAL_NOTA(7)       │ TOTAL_NOTA(8)       │ TOTAL_NOTA(9)      │ TOTAL_NOTA(0)      │ TOTAL_NOTA(1)      │ TOTAL_NOTA(2)      │ TOTAL_NOTA(3)      │ TOTAL_NOTA(4)       │ TOTAL_NOTA(5)      │ TOTAL_NOTA(6)      │ TOTAL_NOTA(7)       │ TOTAL_NOTA(8)        │ TOTAL_NOTA(9)      │ TOTAL_NOTA(0)      │ TOTAL_NOTA(1)      │ TOTAL_NOTA(2)       │ TOTAL_NOTA(3)       │ TOTAL_NOTA(4)       │ TOTAL_NOTA(5)       │ TOTAL_NOTA(6)      │ TOTAL_NOTA(7)       │ TOTAL_NOTA(8)       │ TOTAL_NOTA(9)      │ TOTAL_NOTA(0)      │ TOTAL_NOTA(1)      │ TOTAL_NOTA(2)       │ TOTAL_NOTA(3)       │ TOTAL_NOTA(4)       │ TOTAL_NOTA(5)       │ TOTAL_NOTA(6)      │ TOTAL_NOTA(7)       │ TOTAL_NOTA(8)       │ TOTAL_NOTA(9)      │ TOTAL_NOTA(0)      │ TOTAL_NOTA(1)      │ TOTAL_NOTA(2)      │ TOTAL_NOTA(3)      │ TOTAL_NOTA(4)       │ TOTAL_NOTA(5)       │ TOTAL_NOTA(6)      │ TOTAL_NOTA(7)      │ TOTAL_NOTA(8)      │ TOTAL_NOTA(9)      │ TOTAL_NOTA(0)      │ TOTAL_NOTA(1)      │ TOTAL_NOTA(2)      │ TOTAL_NOTA(3)      │ TOTAL_NOTA(4)       │ TOTAL_NOTA(5)      │ TOTAL_NOTA(6)      │ TOTAL_NOTA(7)       │ TOTAL_NOTA(8)       │ TOTAL_NOTA(9)      │\n",
      "├───────────────────┼──────────────────────┼──────────────────────┼──────────────────────┼──────────────────────┼─────────────────────┼─────────────────────┼───────────────────┼───────────────────┼───────────────────┼───────────────────┼───────────────────┼─────────────────────┼──────────────────────┼─────────────────────┼─────────────────────┼─────────────────────┼───────────────────┼────────────────────┼─────────────────────┼───────────────────┼──────────────────────┼─────────────────────┼──────────────────────┼─────────────────────┼─────────────────────┼────────────────────┼───────────────────┼────────────────────┼─────────────────────┼─────────────────────┼─────────────────────┼─────────────────────┼────────────────────┼─────────────────────┼───────────────────┼────────────────────┼───────────────────┼────────────────────┼─────────────────────┼───────────────────┼───────────────────┼──────────────────────┼─────────────────────┼─────────────────────┼────────────────────┼────────────────────┼───────────────────┼─────────────────────┼─────────────────────┼───────────────────┼───────────────────┼─────────────────────┼─────────────────────┼─────────────────────┼────────────────────┼───────────────────┼───────────────────┼────────────────────┼─────────────────────┼───────────────────┼───────────────────┼─────────────────────┼─────────────────────┼─────────────────────┼────────────────────┼───────────────────┼───────────────────┼────────────────────┼─────────────────────┼───────────────────┼───────────────────┼────────────────────┼────────────────────┼────────────────────┼────────────────────┼─────────────────────┼───────────────────┼─────────────────────┼───────────────────┼───────────────────┼───────────────────┼─────────────────────┼─────────────────────┼────────────────────┼─────────────────────┼─────────────────────┼───────────────────┼─────────────────────┼─────────────────────┼───────────────────┼───────────────────┼─────────────────────┼─────────────────────┼────────────────────┼─────────────────────┼─────────────────────┼───────────────────┼─────────────────────┼─────────────────────┼───────────────────┼────────────────────┼────────────────────┼────────────────────┼────────────────────┼────────────────────┼─────────────────────┼────────────────────┼─────────────────────┼──────────────────────┼────────────────────┼────────────────────┼─────────────────────┼─────────────────────┼────────────────────┼────────────────────┼─────────────────────┼────────────────────┼─────────────────────┼─────────────────────┼────────────────────┼────────────────────┼────────────────────┼────────────────────┼────────────────────┼─────────────────────┼────────────────────┼────────────────────┼─────────────────────┼──────────────────────┼────────────────────┼────────────────────┼────────────────────┼─────────────────────┼─────────────────────┼─────────────────────┼─────────────────────┼────────────────────┼─────────────────────┼─────────────────────┼────────────────────┼────────────────────┼────────────────────┼─────────────────────┼─────────────────────┼─────────────────────┼─────────────────────┼────────────────────┼─────────────────────┼─────────────────────┼────────────────────┼────────────────────┼────────────────────┼────────────────────┼────────────────────┼─────────────────────┼─────────────────────┼────────────────────┼────────────────────┼────────────────────┼────────────────────┼────────────────────┼────────────────────┼────────────────────┼────────────────────┼─────────────────────┼────────────────────┼────────────────────┼─────────────────────┼─────────────────────┼────────────────────┤\n",
      "│ PRIVATE_SCHOOL(0) │ 0.9411764705882353   │ 0.9813829787234043   │ 0.978321856669217    │ 0.9626062322946176   │ 0.8378932968536251  │ 0.5724137931034483  │ 0.5               │ 0.25              │ 0.0               │ 1.0               │ 1.0               │ 0.9920518104209597  │ 0.9830917874396136   │ 0.9625429426323372  │ 0.9063433693403815  │ 0.8007636237417564  │ 1.0               │ 0.6055045871559633 │ 0.42857142857142855 │ 1.0               │ 0.9696969696969697   │ 0.980209545983702   │ 0.964101250693644    │ 0.9329422509484333  │ 0.8499845344880915  │ 0.7063026749725174 │ 1.0               │ 0.4847908745247148 │ 0.5384615384615384  │ 0.8666666666666667  │ 0.9473684210526315  │ 0.9530744336569579  │ 0.9487530253604125 │ 0.9069278480569086  │ 0.802513258012451 │ 0.6039647577092511 │ 0.5               │ 0.3421516754850088 │ 0.09090909090909091 │ 0.9               │ 1.0               │ 0.9517045454545454   │ 0.9343041535661095  │ 0.8875910268315331  │ 0.7498614958448754 │ 0.5501850138760407 │ 0.5               │ 0.33136966126656847 │ 0.06666666666666667 │ 0.75              │ 1.0               │ 0.9512195121951219  │ 0.9139430284857571  │ 0.848078096400244   │ 0.6964751958224543 │ 0.469403173004281 │ 0.5               │ 0.2735166425470333 │ 0.17142857142857143 │ 1.0               │ 1.0               │ 0.9209039548022598  │ 0.8905745642349903  │ 0.8164996708842244  │ 0.6534487997569128 │ 0.429339344546558 │ 0.5               │ 0.2540084388185654 │ 0.17777777777777778 │ 0.5               │ 1.0               │ 0.8673469387755102 │ 0.8612580834803057 │ 0.7405538461538461 │ 0.5397289972899729 │ 0.33801686069851467 │ 0.5               │ 0.22304526748971193 │ 0.15625           │ 1.0               │ 0.5               │ 0.7333333333333333  │ 0.799575821845175   │ 0.6439095247976758 │ 0.46222155328115594 │ 0.27726519990537024 │ 0.5               │ 0.15512927439532945 │ 0.18333333333333332 │ 1.0               │ 0.5               │ 0.7647058823529411  │ 0.7313432835820896  │ 0.5914245216158752 │ 0.36469221835075494 │ 0.23462002412545235 │ 0.5               │ 0.13992869875222816 │ 0.04225352112676056 │ 1.0               │ 0.5                │ 0.6                │ 0.6971830985915493 │ 0.5276564774381368 │ 0.3622550979608157 │ 0.20904229460379192 │ 0.5                │ 0.14863102998696218 │ 0.058823529411764705 │ 0.5                │ 0.5                │ 0.42857142857142855 │ 0.6732673267326733  │ 0.5057636887608069 │ 0.3190045248868778 │ 0.18111455108359134 │ 0.5                │ 0.12595419847328243 │ 0.07142857142857142 │ 0.5                │ 0.5                │ 0.7142857142857143 │ 0.6554621848739496 │ 0.4533508541392904 │ 0.27236580516898606 │ 0.1551047120418848 │ 0.5                │ 0.09021406727828746 │ 0.045454545454545456 │ 0.5                │ 0.0                │ 0.6                │ 0.5319148936170213  │ 0.39200761179828736 │ 0.21740924092409242 │ 0.11792282726289217 │ 0.5                │ 0.09773828756058159 │ 0.07291666666666667 │ 0.6666666666666666 │ 0.0                │ 0.6                │ 0.45544554455445546 │ 0.32865168539325845 │ 0.16331360946745563 │ 0.09871794871794871 │ 0.5                │ 0.06479313036690086 │ 0.03636363636363636 │ 0.0                │ 0.5                │ 0.3333333333333333 │ 0.3220338983050847 │ 0.2698744769874477 │ 0.11942675159235669 │ 0.07058823529411765 │ 0.5                │ 0.0544             │ 0.0410958904109589 │ 0.5                │ 0.0                │ 0.5555555555555556 │ 0.48               │ 0.1936842105263158 │ 0.06526038233355307 │ 0.03125            │ 0.5                │ 0.01923957856161246 │ 0.02622950819672131 │ 0.5                │\n",
      "├───────────────────┼──────────────────────┼──────────────────────┼──────────────────────┼──────────────────────┼─────────────────────┼─────────────────────┼───────────────────┼───────────────────┼───────────────────┼───────────────────┼───────────────────┼─────────────────────┼──────────────────────┼─────────────────────┼─────────────────────┼─────────────────────┼───────────────────┼────────────────────┼─────────────────────┼───────────────────┼──────────────────────┼─────────────────────┼──────────────────────┼─────────────────────┼─────────────────────┼────────────────────┼───────────────────┼────────────────────┼─────────────────────┼─────────────────────┼─────────────────────┼─────────────────────┼────────────────────┼─────────────────────┼───────────────────┼────────────────────┼───────────────────┼────────────────────┼─────────────────────┼───────────────────┼───────────────────┼──────────────────────┼─────────────────────┼─────────────────────┼────────────────────┼────────────────────┼───────────────────┼─────────────────────┼─────────────────────┼───────────────────┼───────────────────┼─────────────────────┼─────────────────────┼─────────────────────┼────────────────────┼───────────────────┼───────────────────┼────────────────────┼─────────────────────┼───────────────────┼───────────────────┼─────────────────────┼─────────────────────┼─────────────────────┼────────────────────┼───────────────────┼───────────────────┼────────────────────┼─────────────────────┼───────────────────┼───────────────────┼────────────────────┼────────────────────┼────────────────────┼────────────────────┼─────────────────────┼───────────────────┼─────────────────────┼───────────────────┼───────────────────┼───────────────────┼─────────────────────┼─────────────────────┼────────────────────┼─────────────────────┼─────────────────────┼───────────────────┼─────────────────────┼─────────────────────┼───────────────────┼───────────────────┼─────────────────────┼─────────────────────┼────────────────────┼─────────────────────┼─────────────────────┼───────────────────┼─────────────────────┼─────────────────────┼───────────────────┼────────────────────┼────────────────────┼────────────────────┼────────────────────┼────────────────────┼─────────────────────┼────────────────────┼─────────────────────┼──────────────────────┼────────────────────┼────────────────────┼─────────────────────┼─────────────────────┼────────────────────┼────────────────────┼─────────────────────┼────────────────────┼─────────────────────┼─────────────────────┼────────────────────┼────────────────────┼────────────────────┼────────────────────┼────────────────────┼─────────────────────┼────────────────────┼────────────────────┼─────────────────────┼──────────────────────┼────────────────────┼────────────────────┼────────────────────┼─────────────────────┼─────────────────────┼─────────────────────┼─────────────────────┼────────────────────┼─────────────────────┼─────────────────────┼────────────────────┼────────────────────┼────────────────────┼─────────────────────┼─────────────────────┼─────────────────────┼─────────────────────┼────────────────────┼─────────────────────┼─────────────────────┼────────────────────┼────────────────────┼────────────────────┼────────────────────┼────────────────────┼─────────────────────┼─────────────────────┼────────────────────┼────────────────────┼────────────────────┼────────────────────┼────────────────────┼────────────────────┼────────────────────┼────────────────────┼─────────────────────┼────────────────────┼────────────────────┼─────────────────────┼─────────────────────┼────────────────────┤\n",
      "│ PRIVATE_SCHOOL(1) │ 0.058823529411764705 │ 0.018617021276595744 │ 0.021678143330782964 │ 0.037393767705382434 │ 0.16210670314637482 │ 0.42758620689655175 │ 0.5               │ 0.75              │ 1.0               │ 0.0               │ 0.0               │ 0.00794818957904033 │ 0.016908212560386472 │ 0.03745705736766281 │ 0.09365663065961848 │ 0.19923637625824367 │ 0.0               │ 0.3944954128440367 │ 0.5714285714285714  │ 0.0               │ 0.030303030303030304 │ 0.01979045401629802 │ 0.035898749306355913 │ 0.06705774905156667 │ 0.15001546551190845 │ 0.2936973250274826 │ 0.0               │ 0.5152091254752852 │ 0.46153846153846156 │ 0.13333333333333333 │ 0.05263157894736842 │ 0.04692556634304207 │ 0.0512469746395875 │ 0.09307215194309143 │ 0.197486741987549 │ 0.3960352422907489 │ 0.5               │ 0.6578483245149912 │ 0.9090909090909091  │ 0.1               │ 0.0               │ 0.048295454545454544 │ 0.06569584643389045 │ 0.11240897316846683 │ 0.2501385041551247 │ 0.4498149861239593 │ 0.5               │ 0.6686303387334315  │ 0.9333333333333333  │ 0.25              │ 0.0               │ 0.04878048780487805 │ 0.08605697151424288 │ 0.15192190359975594 │ 0.3035248041775457 │ 0.530596826995719 │ 0.5               │ 0.7264833574529667 │ 0.8285714285714286  │ 0.0               │ 0.0               │ 0.07909604519774012 │ 0.10942543576500968 │ 0.18350032911577563 │ 0.3465512002430872 │ 0.570660655453442 │ 0.5               │ 0.7459915611814346 │ 0.8222222222222222  │ 0.5               │ 0.0               │ 0.1326530612244898 │ 0.1387419165196943 │ 0.2594461538461538 │ 0.4602710027100271 │ 0.6619831393014853  │ 0.5               │ 0.776954732510288   │ 0.84375           │ 0.0               │ 0.5               │ 0.26666666666666666 │ 0.20042417815482502 │ 0.3560904752023241 │ 0.5377784467188441  │ 0.7227348000946298  │ 0.5               │ 0.8448707256046706  │ 0.8166666666666667  │ 0.0               │ 0.5               │ 0.23529411764705882 │ 0.26865671641791045 │ 0.4085754783841247 │ 0.6353077816492451  │ 0.7653799758745476  │ 0.5               │ 0.8600713012477719  │ 0.9577464788732394  │ 0.0               │ 0.5                │ 0.4                │ 0.3028169014084507 │ 0.4723435225618632 │ 0.6377449020391843 │ 0.790957705396208   │ 0.5                │ 0.8513689700130378  │ 0.9411764705882353   │ 0.5                │ 0.5                │ 0.5714285714285714  │ 0.32673267326732675 │ 0.4942363112391931 │ 0.6809954751131222 │ 0.8188854489164087  │ 0.5                │ 0.8740458015267175  │ 0.9285714285714286  │ 0.5                │ 0.5                │ 0.2857142857142857 │ 0.3445378151260504 │ 0.5466491458607096 │ 0.7276341948310139  │ 0.8448952879581152 │ 0.5                │ 0.9097859327217125  │ 0.9545454545454546   │ 0.5                │ 1.0                │ 0.4                │ 0.46808510638297873 │ 0.6079923882017126  │ 0.7825907590759076  │ 0.8820771727371078  │ 0.5                │ 0.9022617124394184  │ 0.9270833333333334  │ 0.3333333333333333 │ 1.0                │ 0.4                │ 0.5445544554455446  │ 0.6713483146067416  │ 0.8366863905325443  │ 0.9012820512820513  │ 0.5                │ 0.9352068696330992  │ 0.9636363636363636  │ 1.0                │ 0.5                │ 0.6666666666666666 │ 0.6779661016949152 │ 0.7301255230125523 │ 0.8805732484076433  │ 0.9294117647058824  │ 0.5                │ 0.9456             │ 0.958904109589041  │ 0.5                │ 1.0                │ 0.4444444444444444 │ 0.52               │ 0.8063157894736842 │ 0.934739617666447   │ 0.96875            │ 0.5                │ 0.9807604214383875  │ 0.9737704918032787  │ 0.5                │\n",
      "╘═══════════════════╧══════════════════════╧══════════════════════╧══════════════════════╧══════════════════════╧═════════════════════╧═════════════════════╧═══════════════════╧═══════════════════╧═══════════════════╧═══════════════════╧═══════════════════╧═════════════════════╧══════════════════════╧═════════════════════╧═════════════════════╧═════════════════════╧═══════════════════╧════════════════════╧═════════════════════╧═══════════════════╧══════════════════════╧═════════════════════╧══════════════════════╧═════════════════════╧═════════════════════╧════════════════════╧═══════════════════╧════════════════════╧═════════════════════╧═════════════════════╧═════════════════════╧═════════════════════╧════════════════════╧═════════════════════╧═══════════════════╧════════════════════╧═══════════════════╧════════════════════╧═════════════════════╧═══════════════════╧═══════════════════╧══════════════════════╧═════════════════════╧═════════════════════╧════════════════════╧════════════════════╧═══════════════════╧═════════════════════╧═════════════════════╧═══════════════════╧═══════════════════╧═════════════════════╧═════════════════════╧═════════════════════╧════════════════════╧═══════════════════╧═══════════════════╧════════════════════╧═════════════════════╧═══════════════════╧═══════════════════╧═════════════════════╧═════════════════════╧═════════════════════╧════════════════════╧═══════════════════╧═══════════════════╧════════════════════╧═════════════════════╧═══════════════════╧═══════════════════╧════════════════════╧════════════════════╧════════════════════╧════════════════════╧═════════════════════╧═══════════════════╧═════════════════════╧═══════════════════╧═══════════════════╧═══════════════════╧═════════════════════╧═════════════════════╧════════════════════╧═════════════════════╧═════════════════════╧═══════════════════╧═════════════════════╧═════════════════════╧═══════════════════╧═══════════════════╧═════════════════════╧═════════════════════╧════════════════════╧═════════════════════╧═════════════════════╧═══════════════════╧═════════════════════╧═════════════════════╧═══════════════════╧════════════════════╧════════════════════╧════════════════════╧════════════════════╧════════════════════╧═════════════════════╧════════════════════╧═════════════════════╧══════════════════════╧════════════════════╧════════════════════╧═════════════════════╧═════════════════════╧════════════════════╧════════════════════╧═════════════════════╧════════════════════╧═════════════════════╧═════════════════════╧════════════════════╧════════════════════╧════════════════════╧════════════════════╧════════════════════╧═════════════════════╧════════════════════╧════════════════════╧═════════════════════╧══════════════════════╧════════════════════╧════════════════════╧════════════════════╧═════════════════════╧═════════════════════╧═════════════════════╧═════════════════════╧════════════════════╧═════════════════════╧═════════════════════╧════════════════════╧════════════════════╧════════════════════╧═════════════════════╧═════════════════════╧═════════════════════╧═════════════════════╧════════════════════╧═════════════════════╧═════════════════════╧════════════════════╧════════════════════╧════════════════════╧════════════════════╧════════════════════╧═════════════════════╧═════════════════════╧════════════════════╧════════════════════╧════════════════════╧════════════════════╧════════════════════╧════════════════════╧════════════════════╧════════════════════╧═════════════════════╧════════════════════╧════════════════════╧═════════════════════╧═════════════════════╧════════════════════╛\n",
      "╒════════════════╤═══════════════════════╤════════════════════════╤════════════════════════╤════════════════════════╤═══════════════════════╤════════════════════════╤═══════════════════════╤════════════════════════╤═══════════════════════╤════════════════════════╤═══════════════════════╤═══════════════════════╤════════════════════════╤═══════════════════════╤═══════════════════════╤═══════════════════════╤════════════════════════╕\n",
      "│ MONTHLY_INCOME │ MONTHLY_INCOME(0)     │ MONTHLY_INCOME(1)      │ MONTHLY_INCOME(2)      │ MONTHLY_INCOME(3)      │ MONTHLY_INCOME(4)     │ MONTHLY_INCOME(5)      │ MONTHLY_INCOME(6)     │ MONTHLY_INCOME(7)      │ MONTHLY_INCOME(8)     │ MONTHLY_INCOME(9)      │ MONTHLY_INCOME(10)    │ MONTHLY_INCOME(11)    │ MONTHLY_INCOME(12)     │ MONTHLY_INCOME(13)    │ MONTHLY_INCOME(14)    │ MONTHLY_INCOME(15)    │ MONTHLY_INCOME(16)     │\n",
      "├────────────────┼───────────────────────┼────────────────────────┼────────────────────────┼────────────────────────┼───────────────────────┼────────────────────────┼───────────────────────┼────────────────────────┼───────────────────────┼────────────────────────┼───────────────────────┼───────────────────────┼────────────────────────┼───────────────────────┼───────────────────────┼───────────────────────┼────────────────────────┤\n",
      "│ TOTAL_NOTA(0)  │ 0.001488486122055862  │ 0.0006066878412619107  │ 0.0002894965392004632  │ 0.00031064024589627886 │ 0.0002157823187967978 │ 9.351620947630923e-05  │ 0.0001616597063182002 │ 0.00011804517195246714 │ 0.0                   │ 0.00016471750947125678 │ 0.0                   │ 0.0                   │ 0.0                    │ 0.0002569043031470777 │ 0.0001602307322544464 │ 0.0                   │ 0.00013374348000534973 │\n",
      "├────────────────┼───────────────────────┼────────────────────────┼────────────────────────┼────────────────────────┼───────────────────────┼────────────────────────┼───────────────────────┼────────────────────────┼───────────────────────┼────────────────────────┼───────────────────────┼───────────────────────┼────────────────────────┼───────────────────────┼───────────────────────┼───────────────────────┼────────────────────────┤\n",
      "│ TOTAL_NOTA(1)  │ 0.03292181069958848   │ 0.030307626423039864   │ 0.015071365283224114   │ 0.010103982734942122   │ 0.0075955376216472826 │ 0.006390274314214464   │ 0.004768961336386906  │ 0.0038561422837805935  │ 0.003341687552213868  │ 0.0028001976610113654  │ 0.0014196479273140261 │ 0.0017561465127947818 │ 0.001513840830449827   │ 0.0012845215157353885 │ 0.000801153661272232  │ 0.0005733944954128441 │ 0.0012036913200481477  │\n",
      "├────────────────┼───────────────────────┼────────────────────────┼────────────────────────┼────────────────────────┼───────────────────────┼────────────────────────┼───────────────────────┼────────────────────────┼───────────────────────┼────────────────────────┼───────────────────────┼───────────────────────┼────────────────────────┼───────────────────────┼───────────────────────┼───────────────────────┼────────────────────────┤\n",
      "│ TOTAL_NOTA(2)  │ 0.34331494615182556   │ 0.30287998286999035    │ 0.20551622496512884    │ 0.1553691714080178     │ 0.13039725524890491   │ 0.10395885286783042    │ 0.08347029502896403   │ 0.06693161249704888    │ 0.05252018936229463   │ 0.038626255971009715   │ 0.04031800113571834   │ 0.025338685398896138  │ 0.025735294117647058   │ 0.024149004495825306  │ 0.016183303957699086  │ 0.011276758409785932  │ 0.01003076100040123    │\n",
      "├────────────────┼───────────────────────┼────────────────────────┼────────────────────────┼────────────────────────┼───────────────────────┼────────────────────────┼───────────────────────┼────────────────────────┼───────────────────────┼────────────────────────┼───────────────────────┼───────────────────────┼────────────────────────┼───────────────────────┼───────────────────────┼───────────────────────┼────────────────────────┤\n",
      "│ TOTAL_NOTA(3)  │ 0.46361964801681116   │ 0.48304842796474073    │ 0.4994780289671992     │ 0.4665652998495847     │ 0.44151220249012796   │ 0.4087281795511222     │ 0.36839552741479187   │ 0.3197056740379319     │ 0.2683932052353105    │ 0.23241640586394333    │ 0.1950596252129472    │ 0.1741093828399398    │ 0.16457612456747406    │ 0.13500321130378934   │ 0.11408428136516584   │ 0.09136085626911315   │ 0.06352815300254112    │\n",
      "├────────────────┼───────────────────────┼────────────────────────┼────────────────────────┼────────────────────────┼───────────────────────┼────────────────────────┼───────────────────────┼────────────────────────┼───────────────────────┼────────────────────────┼───────────────────────┼───────────────────────┼────────────────────────┼───────────────────────┼───────────────────────┼───────────────────────┼────────────────────────┤\n",
      "│ TOTAL_NOTA(4)  │ 0.12800980649680413   │ 0.15527639984297492    │ 0.22689510575396304    │ 0.2836308939899287     │ 0.311589668342576     │ 0.33428927680798004    │ 0.3546813956621312    │ 0.36298890375383647    │ 0.370036201615149     │ 0.35455443913688023    │ 0.35505394662123796   │ 0.33266432513798294   │ 0.326340830449827      │ 0.3113680154142582    │ 0.2707899375100144    │ 0.2400611620795107    │ 0.20288885916811555    │\n",
      "├────────────────┼───────────────────────┼────────────────────────┼────────────────────────┼────────────────────────┼───────────────────────┼────────────────────────┼───────────────────────┼────────────────────────┼───────────────────────┼────────────────────────┼───────────────────────┼───────────────────────┼────────────────────────┼───────────────────────┼───────────────────────┼───────────────────────┼────────────────────────┤\n",
      "│ TOTAL_NOTA(5)  │ 0.025391822082129412  │ 0.025703936333464187   │ 0.04788097305927661    │ 0.07422666928258452    │ 0.09330427464773536   │ 0.12378428927680798    │ 0.15538192105617674   │ 0.19603368222239712    │ 0.235421888053467     │ 0.27310163070334376    │ 0.29202157864849515   │ 0.3241344706472654    │ 0.3304498269896194     │ 0.35619781631342323   │ 0.37493991347540456   │ 0.38990825688073394   │ 0.38946101377557846    │\n",
      "├────────────────┼───────────────────────┼────────────────────────┼────────────────────────┼────────────────────────┼───────────────────────┼────────────────────────┼───────────────────────┼────────────────────────┼───────────────────────┼────────────────────────┼───────────────────────┼───────────────────────┼────────────────────────┼───────────────────────┼───────────────────────┼───────────────────────┼────────────────────────┤\n",
      "│ TOTAL_NOTA(6)  │ 0.0                   │ 1.784376003711502e-05  │ 8.772622400014037e-06  │ 0.0                    │ 0.0                   │ 0.0                    │ 0.0                   │ 0.0                    │ 0.0                   │ 0.0                    │ 0.0                   │ 0.0                   │ 0.0                    │ 0.0                   │ 0.0                   │ 0.0                   │ 0.0                    │\n",
      "├────────────────┼───────────────────────┼────────────────────────┼────────────────────────┼────────────────────────┼───────────────────────┼────────────────────────┼───────────────────────┼────────────────────────┼───────────────────────┼────────────────────────┼───────────────────────┼───────────────────────┼────────────────────────┼───────────────────────┼───────────────────────┼───────────────────────┼────────────────────────┤\n",
      "│ TOTAL_NOTA(7)  │ 0.004903248402066369  │ 0.0019449698440455372  │ 0.0046143993824073835  │ 0.009270158917010007   │ 0.01465161944630257   │ 0.02153990024937656    │ 0.03192779199784454   │ 0.04780829464074919    │ 0.06677805625174046   │ 0.09240652281337507    │ 0.1088869960249858    │ 0.13146011038635222   │ 0.14143598615916955    │ 0.1590237636480411    │ 0.20525556801794584   │ 0.23891437308868502   │ 0.2919620168516785     │\n",
      "├────────────────┼───────────────────────┼────────────────────────┼────────────────────────┼────────────────────────┼───────────────────────┼────────────────────────┼───────────────────────┼────────────────────────┼───────────────────────┼────────────────────────┼───────────────────────┼───────────────────────┼────────────────────────┼───────────────────────┼───────────────────────┼───────────────────────┼────────────────────────┤\n",
      "│ TOTAL_NOTA(8)  │ 8.755800717975659e-05 │ 6.245316012990258e-05  │ 0.00011404409120018246 │ 0.0003596887057746387  │ 0.0006473469563903933 │ 0.0010910224438902742  │ 0.0012124477973865014 │ 0.0025182970016526325  │ 0.003341687552213868  │ 0.005847471586229616   │ 0.007240204429301534  │ 0.010536879076768691  │ 0.009515570934256055   │ 0.01233140655105973   │ 0.017625380547989105  │ 0.02790519877675841   │ 0.04079176140163167    │\n",
      "├────────────────┼───────────────────────┼────────────────────────┼────────────────────────┼────────────────────────┼───────────────────────┼────────────────────────┼───────────────────────┼────────────────────────┼───────────────────────┼────────────────────────┼───────────────────────┼───────────────────────┼────────────────────────┼───────────────────────┼───────────────────────┼───────────────────────┼────────────────────────┤\n",
      "│ TOTAL_NOTA(9)  │ 0.0002626740215392698 │ 0.00015167196031547767 │ 0.00013158933600021055 │ 0.0001634948662611994  │ 8.631292751871912e-05 │ 0.00012468827930174563 │ 0.0                   │ 3.934839065082238e-05  │ 0.0001670843776106934 │ 8.235875473562839e-05  │ 0.0                   │ 0.0                   │ 0.00043252595155709344 │ 0.0003853564547206166 │ 0.0001602307322544464 │ 0.0                   │ 0.0                    │\n",
      "╘════════════════╧═══════════════════════╧════════════════════════╧════════════════════════╧════════════════════════╧═══════════════════════╧════════════════════════╧═══════════════════════╧════════════════════════╧═══════════════════════╧════════════════════════╧═══════════════════════╧═══════════════════════╧════════════════════════╧═══════════════════════╧═══════════════════════╧═══════════════════════╧════════════════════════╛\n",
      "╒════════════════╤═════════════════════╤════════════════════╤═════════════════════╤════════════════════╤═════════════════════╤════════════════════╤════════════════════╤════════════════════╤═════════════════════╤═══════════════════╤════════════════════╤════════════════════╤═════════════════════╤═════════════════════╤═════════════════════╤═══════════════════╤═════════════════════╤═════════════════════╤═════════════════════╤═════════════════════╤════════════════════╤═════════════════════╤════════════════════╤════════════════════╤═════════════════════╤═════════════════════╤═══════════════════╤═════════════════════╤═════════════════════╤═══════════════════╤════════════════════╤═════════════════════╤═════════════════════╤═════════════════════╤════════════════════╤════════════════════╤═════════════════════╤════════════════════╤═════════════════════╤════════════════════╤════════════════════╤═════════════════════╤═════════════════════╤═════════════════════╤════════════════════╤═════════════════════╤════════════════════╤════════════════════╤═════════════════════╤═════════════════════╤═════════════════════╤════════════════════╤════════════════════╤════════════════════╤═════════════════════╤═════════════════════╤═════════════════════╤═════════════════════╤════════════════════╤════════════════════╤═════════════════════╤═════════════════════╤═════════════════════╤════════════════════╤═════════════════════╤════════════════════╤═════════════════════╤════════════════════╕\n",
      "│ MONTHLY_INCOME │ MONTHLY_INCOME(0)   │ MONTHLY_INCOME(0)  │ MONTHLY_INCOME(0)   │ MONTHLY_INCOME(0)  │ MONTHLY_INCOME(1)   │ MONTHLY_INCOME(1)  │ MONTHLY_INCOME(1)  │ MONTHLY_INCOME(1)  │ MONTHLY_INCOME(2)   │ MONTHLY_INCOME(2) │ MONTHLY_INCOME(2)  │ MONTHLY_INCOME(2)  │ MONTHLY_INCOME(3)   │ MONTHLY_INCOME(3)   │ MONTHLY_INCOME(3)   │ MONTHLY_INCOME(3) │ MONTHLY_INCOME(4)   │ MONTHLY_INCOME(4)   │ MONTHLY_INCOME(4)   │ MONTHLY_INCOME(4)   │ MONTHLY_INCOME(5)  │ MONTHLY_INCOME(5)   │ MONTHLY_INCOME(5)  │ MONTHLY_INCOME(5)  │ MONTHLY_INCOME(6)   │ MONTHLY_INCOME(6)   │ MONTHLY_INCOME(6) │ MONTHLY_INCOME(6)   │ MONTHLY_INCOME(7)   │ MONTHLY_INCOME(7) │ MONTHLY_INCOME(7)  │ MONTHLY_INCOME(7)   │ MONTHLY_INCOME(8)   │ MONTHLY_INCOME(8)   │ MONTHLY_INCOME(8)  │ MONTHLY_INCOME(8)  │ MONTHLY_INCOME(9)   │ MONTHLY_INCOME(9)  │ MONTHLY_INCOME(9)   │ MONTHLY_INCOME(9)  │ MONTHLY_INCOME(10) │ MONTHLY_INCOME(10)  │ MONTHLY_INCOME(10)  │ MONTHLY_INCOME(10)  │ MONTHLY_INCOME(11) │ MONTHLY_INCOME(11)  │ MONTHLY_INCOME(11) │ MONTHLY_INCOME(11) │ MONTHLY_INCOME(12)  │ MONTHLY_INCOME(12)  │ MONTHLY_INCOME(12)  │ MONTHLY_INCOME(12) │ MONTHLY_INCOME(13) │ MONTHLY_INCOME(13) │ MONTHLY_INCOME(13)  │ MONTHLY_INCOME(13)  │ MONTHLY_INCOME(14)  │ MONTHLY_INCOME(14)  │ MONTHLY_INCOME(14) │ MONTHLY_INCOME(14) │ MONTHLY_INCOME(15)  │ MONTHLY_INCOME(15)  │ MONTHLY_INCOME(15)  │ MONTHLY_INCOME(15) │ MONTHLY_INCOME(16)  │ MONTHLY_INCOME(16) │ MONTHLY_INCOME(16)  │ MONTHLY_INCOME(16) │\n",
      "├────────────────┼─────────────────────┼────────────────────┼─────────────────────┼────────────────────┼─────────────────────┼────────────────────┼────────────────────┼────────────────────┼─────────────────────┼───────────────────┼────────────────────┼────────────────────┼─────────────────────┼─────────────────────┼─────────────────────┼───────────────────┼─────────────────────┼─────────────────────┼─────────────────────┼─────────────────────┼────────────────────┼─────────────────────┼────────────────────┼────────────────────┼─────────────────────┼─────────────────────┼───────────────────┼─────────────────────┼─────────────────────┼───────────────────┼────────────────────┼─────────────────────┼─────────────────────┼─────────────────────┼────────────────────┼────────────────────┼─────────────────────┼────────────────────┼─────────────────────┼────────────────────┼────────────────────┼─────────────────────┼─────────────────────┼─────────────────────┼────────────────────┼─────────────────────┼────────────────────┼────────────────────┼─────────────────────┼─────────────────────┼─────────────────────┼────────────────────┼────────────────────┼────────────────────┼─────────────────────┼─────────────────────┼─────────────────────┼─────────────────────┼────────────────────┼────────────────────┼─────────────────────┼─────────────────────┼─────────────────────┼────────────────────┼─────────────────────┼────────────────────┼─────────────────────┼────────────────────┤\n",
      "│ PRIVATE_SCHOOL │ PRIVATE_SCHOOL(0)   │ PRIVATE_SCHOOL(0)  │ PRIVATE_SCHOOL(1)   │ PRIVATE_SCHOOL(1)  │ PRIVATE_SCHOOL(0)   │ PRIVATE_SCHOOL(0)  │ PRIVATE_SCHOOL(1)  │ PRIVATE_SCHOOL(1)  │ PRIVATE_SCHOOL(0)   │ PRIVATE_SCHOOL(0) │ PRIVATE_SCHOOL(1)  │ PRIVATE_SCHOOL(1)  │ PRIVATE_SCHOOL(0)   │ PRIVATE_SCHOOL(0)   │ PRIVATE_SCHOOL(1)   │ PRIVATE_SCHOOL(1) │ PRIVATE_SCHOOL(0)   │ PRIVATE_SCHOOL(0)   │ PRIVATE_SCHOOL(1)   │ PRIVATE_SCHOOL(1)   │ PRIVATE_SCHOOL(0)  │ PRIVATE_SCHOOL(0)   │ PRIVATE_SCHOOL(1)  │ PRIVATE_SCHOOL(1)  │ PRIVATE_SCHOOL(0)   │ PRIVATE_SCHOOL(0)   │ PRIVATE_SCHOOL(1) │ PRIVATE_SCHOOL(1)   │ PRIVATE_SCHOOL(0)   │ PRIVATE_SCHOOL(0) │ PRIVATE_SCHOOL(1)  │ PRIVATE_SCHOOL(1)   │ PRIVATE_SCHOOL(0)   │ PRIVATE_SCHOOL(0)   │ PRIVATE_SCHOOL(1)  │ PRIVATE_SCHOOL(1)  │ PRIVATE_SCHOOL(0)   │ PRIVATE_SCHOOL(0)  │ PRIVATE_SCHOOL(1)   │ PRIVATE_SCHOOL(1)  │ PRIVATE_SCHOOL(0)  │ PRIVATE_SCHOOL(0)   │ PRIVATE_SCHOOL(1)   │ PRIVATE_SCHOOL(1)   │ PRIVATE_SCHOOL(0)  │ PRIVATE_SCHOOL(0)   │ PRIVATE_SCHOOL(1)  │ PRIVATE_SCHOOL(1)  │ PRIVATE_SCHOOL(0)   │ PRIVATE_SCHOOL(0)   │ PRIVATE_SCHOOL(1)   │ PRIVATE_SCHOOL(1)  │ PRIVATE_SCHOOL(0)  │ PRIVATE_SCHOOL(0)  │ PRIVATE_SCHOOL(1)   │ PRIVATE_SCHOOL(1)   │ PRIVATE_SCHOOL(0)   │ PRIVATE_SCHOOL(0)   │ PRIVATE_SCHOOL(1)  │ PRIVATE_SCHOOL(1)  │ PRIVATE_SCHOOL(0)   │ PRIVATE_SCHOOL(0)   │ PRIVATE_SCHOOL(1)   │ PRIVATE_SCHOOL(1)  │ PRIVATE_SCHOOL(0)   │ PRIVATE_SCHOOL(0)  │ PRIVATE_SCHOOL(1)   │ PRIVATE_SCHOOL(1)  │\n",
      "├────────────────┼─────────────────────┼────────────────────┼─────────────────────┼────────────────────┼─────────────────────┼────────────────────┼────────────────────┼────────────────────┼─────────────────────┼───────────────────┼────────────────────┼────────────────────┼─────────────────────┼─────────────────────┼─────────────────────┼───────────────────┼─────────────────────┼─────────────────────┼─────────────────────┼─────────────────────┼────────────────────┼─────────────────────┼────────────────────┼────────────────────┼─────────────────────┼─────────────────────┼───────────────────┼─────────────────────┼─────────────────────┼───────────────────┼────────────────────┼─────────────────────┼─────────────────────┼─────────────────────┼────────────────────┼────────────────────┼─────────────────────┼────────────────────┼─────────────────────┼────────────────────┼────────────────────┼─────────────────────┼─────────────────────┼─────────────────────┼────────────────────┼─────────────────────┼────────────────────┼────────────────────┼─────────────────────┼─────────────────────┼─────────────────────┼────────────────────┼────────────────────┼────────────────────┼─────────────────────┼─────────────────────┼─────────────────────┼─────────────────────┼────────────────────┼────────────────────┼─────────────────────┼─────────────────────┼─────────────────────┼────────────────────┼─────────────────────┼────────────────────┼─────────────────────┼────────────────────┤\n",
      "│ TP_SEXO        │ TP_SEXO(0)          │ TP_SEXO(1)         │ TP_SEXO(0)          │ TP_SEXO(1)         │ TP_SEXO(0)          │ TP_SEXO(1)         │ TP_SEXO(0)         │ TP_SEXO(1)         │ TP_SEXO(0)          │ TP_SEXO(1)        │ TP_SEXO(0)         │ TP_SEXO(1)         │ TP_SEXO(0)          │ TP_SEXO(1)          │ TP_SEXO(0)          │ TP_SEXO(1)        │ TP_SEXO(0)          │ TP_SEXO(1)          │ TP_SEXO(0)          │ TP_SEXO(1)          │ TP_SEXO(0)         │ TP_SEXO(1)          │ TP_SEXO(0)         │ TP_SEXO(1)         │ TP_SEXO(0)          │ TP_SEXO(1)          │ TP_SEXO(0)        │ TP_SEXO(1)          │ TP_SEXO(0)          │ TP_SEXO(1)        │ TP_SEXO(0)         │ TP_SEXO(1)          │ TP_SEXO(0)          │ TP_SEXO(1)          │ TP_SEXO(0)         │ TP_SEXO(1)         │ TP_SEXO(0)          │ TP_SEXO(1)         │ TP_SEXO(0)          │ TP_SEXO(1)         │ TP_SEXO(0)         │ TP_SEXO(1)          │ TP_SEXO(0)          │ TP_SEXO(1)          │ TP_SEXO(0)         │ TP_SEXO(1)          │ TP_SEXO(0)         │ TP_SEXO(1)         │ TP_SEXO(0)          │ TP_SEXO(1)          │ TP_SEXO(0)          │ TP_SEXO(1)         │ TP_SEXO(0)         │ TP_SEXO(1)         │ TP_SEXO(0)          │ TP_SEXO(1)          │ TP_SEXO(0)          │ TP_SEXO(1)          │ TP_SEXO(0)         │ TP_SEXO(1)         │ TP_SEXO(0)          │ TP_SEXO(1)          │ TP_SEXO(0)          │ TP_SEXO(1)         │ TP_SEXO(0)          │ TP_SEXO(1)         │ TP_SEXO(0)          │ TP_SEXO(1)         │\n",
      "├────────────────┼─────────────────────┼────────────────────┼─────────────────────┼────────────────────┼─────────────────────┼────────────────────┼────────────────────┼────────────────────┼─────────────────────┼───────────────────┼────────────────────┼────────────────────┼─────────────────────┼─────────────────────┼─────────────────────┼───────────────────┼─────────────────────┼─────────────────────┼─────────────────────┼─────────────────────┼────────────────────┼─────────────────────┼────────────────────┼────────────────────┼─────────────────────┼─────────────────────┼───────────────────┼─────────────────────┼─────────────────────┼───────────────────┼────────────────────┼─────────────────────┼─────────────────────┼─────────────────────┼────────────────────┼────────────────────┼─────────────────────┼────────────────────┼─────────────────────┼────────────────────┼────────────────────┼─────────────────────┼─────────────────────┼─────────────────────┼────────────────────┼─────────────────────┼────────────────────┼────────────────────┼─────────────────────┼─────────────────────┼─────────────────────┼────────────────────┼────────────────────┼────────────────────┼─────────────────────┼─────────────────────┼─────────────────────┼─────────────────────┼────────────────────┼────────────────────┼─────────────────────┼─────────────────────┼─────────────────────┼────────────────────┼─────────────────────┼────────────────────┼─────────────────────┼────────────────────┤\n",
      "│ TP_COR_RACA(0) │ 0.7743218292856129  │ 0.7842605156037992 │ 0.5245098039215687  │ 0.5087108013937283 │ 0.7694282681660404  │ 0.7934193307160217 │ 0.6721556886227545 │ 0.6784586228679722 │ 0.6532220746070367  │ 0.697159588441331 │ 0.5938492636442391 │ 0.6118980169971672 │ 0.5672243753347828  │ 0.6132486916069005  │ 0.5113636363636364  │ 0.560303893637227 │ 0.5256951777543118  │ 0.5569611735414844  │ 0.46745240253853126 │ 0.5047854276011114  │ 0.4746041980084533 │ 0.5252037428312708  │ 0.4396551724137931 │ 0.4517845961177207 │ 0.45237450953862807 │ 0.48770683369168927 │ 0.402627939142462 │ 0.41738538356786203 │ 0.42770034843205573 │ 0.464577866954777 │ 0.3788895668090299 │ 0.40317752705503107 │ 0.40644171779141103 │ 0.43624338624338627 │ 0.3394560226068527 │ 0.3702203089389719 │ 0.40398175031107425 │ 0.4342536265793168 │ 0.32103825136612024 │ 0.3400999375390381 │ 0.4142059058260176 │ 0.41984056687333926 │ 0.30056285178236397 │ 0.33800701051577364 │ 0.4017241379310345 │ 0.38028169014084506 │ 0.2700636942675159 │ 0.3138801261829653 │ 0.42788461538461536 │ 0.42023346303501946 │ 0.28311176760216644 │ 0.3134020618556701 │ 0.4020486555697823 │ 0.4091539528432732 │ 0.26674169949352844 │ 0.29937706119457674 │ 0.38588235294117645 │ 0.39823008849557523 │ 0.2618556701030928 │ 0.2713936430317848 │ 0.41125541125541126 │ 0.34615384615384615 │ 0.22884012539184953 │ 0.241793804900601  │ 0.40350877192982454 │ 0.3465346534653465 │ 0.18811326044294926 │ 0.2072377721232683 │\n",
      "├────────────────┼─────────────────────┼────────────────────┼─────────────────────┼────────────────────┼─────────────────────┼────────────────────┼────────────────────┼────────────────────┼─────────────────────┼───────────────────┼────────────────────┼────────────────────┼─────────────────────┼─────────────────────┼─────────────────────┼───────────────────┼─────────────────────┼─────────────────────┼─────────────────────┼─────────────────────┼────────────────────┼─────────────────────┼────────────────────┼────────────────────┼─────────────────────┼─────────────────────┼───────────────────┼─────────────────────┼─────────────────────┼───────────────────┼────────────────────┼─────────────────────┼─────────────────────┼─────────────────────┼────────────────────┼────────────────────┼─────────────────────┼────────────────────┼─────────────────────┼────────────────────┼────────────────────┼─────────────────────┼─────────────────────┼─────────────────────┼────────────────────┼─────────────────────┼────────────────────┼────────────────────┼─────────────────────┼─────────────────────┼─────────────────────┼────────────────────┼────────────────────┼────────────────────┼─────────────────────┼─────────────────────┼─────────────────────┼─────────────────────┼────────────────────┼────────────────────┼─────────────────────┼─────────────────────┼─────────────────────┼────────────────────┼─────────────────────┼────────────────────┼─────────────────────┼────────────────────┤\n",
      "│ TP_COR_RACA(1) │ 0.22567817071438717 │ 0.2157394843962008 │ 0.47549019607843135 │ 0.4912891986062718 │ 0.23057173183395965 │ 0.2065806692839783 │ 0.3278443113772455 │ 0.3215413771320278 │ 0.34677792539296326 │ 0.302840411558669 │ 0.4061507363557609 │ 0.3881019830028329 │ 0.43277562466521724 │ 0.38675130839309946 │ 0.48863636363636365 │ 0.439696106362773 │ 0.47430482224568815 │ 0.44303882645851556 │ 0.5325475974614687  │ 0.49521457239888855 │ 0.5253958019915467 │ 0.47479625716872925 │ 0.5603448275862069 │ 0.5482154038822793 │ 0.547625490461372   │ 0.5122931663083108  │ 0.597372060857538 │ 0.582614616432138   │ 0.5722996515679443  │ 0.535422133045223 │ 0.6211104331909701 │ 0.5968224729449689  │ 0.593558282208589   │ 0.5637566137566138  │ 0.6605439773931473 │ 0.6297796910610282 │ 0.5960182496889258  │ 0.5657463734206832 │ 0.6789617486338798  │ 0.6599000624609619 │ 0.5857940941739824 │ 0.5801594331266607  │ 0.699437148217636   │ 0.6619929894842264  │ 0.5982758620689655 │ 0.6197183098591549  │ 0.729936305732484  │ 0.6861198738170347 │ 0.5721153846153846  │ 0.5797665369649806  │ 0.7168882323978336  │ 0.6865979381443299 │ 0.5979513444302177 │ 0.5908460471567267 │ 0.7332583005064716  │ 0.7006229388054233  │ 0.6141176470588235  │ 0.6017699115044248  │ 0.7381443298969073 │ 0.7286063569682152 │ 0.5887445887445888  │ 0.6538461538461539  │ 0.7711598746081505  │ 0.758206195099399  │ 0.5964912280701754  │ 0.6534653465346535 │ 0.8118867395570507  │ 0.7927622278767317 │\n",
      "╘════════════════╧═════════════════════╧════════════════════╧═════════════════════╧════════════════════╧═════════════════════╧════════════════════╧════════════════════╧════════════════════╧═════════════════════╧═══════════════════╧════════════════════╧════════════════════╧═════════════════════╧═════════════════════╧═════════════════════╧═══════════════════╧═════════════════════╧═════════════════════╧═════════════════════╧═════════════════════╧════════════════════╧═════════════════════╧════════════════════╧════════════════════╧═════════════════════╧═════════════════════╧═══════════════════╧═════════════════════╧═════════════════════╧═══════════════════╧════════════════════╧═════════════════════╧═════════════════════╧═════════════════════╧════════════════════╧════════════════════╧═════════════════════╧════════════════════╧═════════════════════╧════════════════════╧════════════════════╧═════════════════════╧═════════════════════╧═════════════════════╧════════════════════╧═════════════════════╧════════════════════╧════════════════════╧═════════════════════╧═════════════════════╧═════════════════════╧════════════════════╧════════════════════╧════════════════════╧═════════════════════╧═════════════════════╧═════════════════════╧═════════════════════╧════════════════════╧════════════════════╧═════════════════════╧═════════════════════╧═════════════════════╧════════════════════╧═════════════════════╧════════════════════╧═════════════════════╧════════════════════╛\n",
      "╒════════════════╤═════════════════════╤════════════════════╤════════════════════╤═════════════════════╤════════════════════╤════════════════════╤════════════════════╤═════════════════════╤═════════════════════╤════════════════════╤═══════════════════╤═════════════════════╤════════════════════╤═════════════════════╤════════════════════╤═════════════════════╤═══════════════════╤════════════════════╤════════════════════╤═════════════════════╕\n",
      "│ PRIVATE_SCHOOL │ PRIVATE_SCHOOL(0)   │ PRIVATE_SCHOOL(0)  │ PRIVATE_SCHOOL(0)  │ PRIVATE_SCHOOL(0)   │ PRIVATE_SCHOOL(0)  │ PRIVATE_SCHOOL(0)  │ PRIVATE_SCHOOL(0)  │ PRIVATE_SCHOOL(0)   │ PRIVATE_SCHOOL(0)   │ PRIVATE_SCHOOL(0)  │ PRIVATE_SCHOOL(1) │ PRIVATE_SCHOOL(1)   │ PRIVATE_SCHOOL(1)  │ PRIVATE_SCHOOL(1)   │ PRIVATE_SCHOOL(1)  │ PRIVATE_SCHOOL(1)   │ PRIVATE_SCHOOL(1) │ PRIVATE_SCHOOL(1)  │ PRIVATE_SCHOOL(1)  │ PRIVATE_SCHOOL(1)   │\n",
      "├────────────────┼─────────────────────┼────────────────────┼────────────────────┼─────────────────────┼────────────────────┼────────────────────┼────────────────────┼─────────────────────┼─────────────────────┼────────────────────┼───────────────────┼─────────────────────┼────────────────────┼─────────────────────┼────────────────────┼─────────────────────┼───────────────────┼────────────────────┼────────────────────┼─────────────────────┤\n",
      "│ TOTAL_NOTA     │ TOTAL_NOTA(0)       │ TOTAL_NOTA(1)      │ TOTAL_NOTA(2)      │ TOTAL_NOTA(3)       │ TOTAL_NOTA(4)      │ TOTAL_NOTA(5)      │ TOTAL_NOTA(6)      │ TOTAL_NOTA(7)       │ TOTAL_NOTA(8)       │ TOTAL_NOTA(9)      │ TOTAL_NOTA(0)     │ TOTAL_NOTA(1)       │ TOTAL_NOTA(2)      │ TOTAL_NOTA(3)       │ TOTAL_NOTA(4)      │ TOTAL_NOTA(5)       │ TOTAL_NOTA(6)     │ TOTAL_NOTA(7)      │ TOTAL_NOTA(8)      │ TOTAL_NOTA(9)       │\n",
      "├────────────────┼─────────────────────┼────────────────────┼────────────────────┼─────────────────────┼────────────────────┼────────────────────┼────────────────────┼─────────────────────┼─────────────────────┼────────────────────┼───────────────────┼─────────────────────┼────────────────────┼─────────────────────┼────────────────────┼─────────────────────┼───────────────────┼────────────────────┼────────────────────┼─────────────────────┤\n",
      "│ TP_SEXO(0)     │ 0.5923566878980892  │ 0.5087821164174772 │ 0.6360888547713861 │ 0.6493422300929732  │ 0.5840635030797259 │ 0.5282947388360089 │ 0.3333333333333333 │ 0.45296729915220024 │ 0.25882352941176473 │ 0.7017543859649122 │ 0.5               │ 0.5228426395939086  │ 0.6134922647730154 │ 0.63888771855909    │ 0.6147288540665731 │ 0.5864328042643161  │ 0.5               │ 0.5237614536418699 │ 0.391674550614948  │ 0.8571428571428571  │\n",
      "├────────────────┼─────────────────────┼────────────────────┼────────────────────┼─────────────────────┼────────────────────┼────────────────────┼────────────────────┼─────────────────────┼─────────────────────┼────────────────────┼───────────────────┼─────────────────────┼────────────────────┼─────────────────────┼────────────────────┼─────────────────────┼───────────────────┼────────────────────┼────────────────────┼─────────────────────┤\n",
      "│ TP_SEXO(1)     │ 0.40764331210191085 │ 0.4912178835825229 │ 0.3639111452286139 │ 0.35065776990702674 │ 0.4159364969202741 │ 0.4717052611639911 │ 0.6666666666666666 │ 0.5470327008477998  │ 0.7411764705882353  │ 0.2982456140350877 │ 0.5               │ 0.47715736040609136 │ 0.3865077352269845 │ 0.36111228144091007 │ 0.385271145933427  │ 0.41356719573568385 │ 0.5               │ 0.4762385463581301 │ 0.6083254493850521 │ 0.14285714285714285 │\n",
      "╘════════════════╧═════════════════════╧════════════════════╧════════════════════╧═════════════════════╧════════════════════╧════════════════════╧════════════════════╧═════════════════════╧═════════════════════╧════════════════════╧═══════════════════╧═════════════════════╧════════════════════╧═════════════════════╧════════════════════╧═════════════════════╧═══════════════════╧════════════════════╧════════════════════╧═════════════════════╛\n"
     ]
    }
   ],
   "source": [
    "for cpd in best_model.get_cpds():\n",
    "    print(cpd)"
   ]
  },
  {
   "cell_type": "code",
   "execution_count": 86,
   "metadata": {},
   "outputs": [
    {
     "name": "stdout",
     "output_type": "stream",
     "text": [
      "╒══════════════╤═══════════════════╕\n",
      "│ TOTAL_NOTA   │   phi(TOTAL_NOTA) │\n",
      "╞══════════════╪═══════════════════╡\n",
      "│ TOTAL_NOTA_0 │            0.0004 │\n",
      "├──────────────┼───────────────────┤\n",
      "│ TOTAL_NOTA_1 │            0.0174 │\n",
      "├──────────────┼───────────────────┤\n",
      "│ TOTAL_NOTA_2 │            0.2105 │\n",
      "├──────────────┼───────────────────┤\n",
      "│ TOTAL_NOTA_3 │            0.4790 │\n",
      "├──────────────┼───────────────────┤\n",
      "│ TOTAL_NOTA_4 │            0.2328 │\n",
      "├──────────────┼───────────────────┤\n",
      "│ TOTAL_NOTA_5 │            0.0533 │\n",
      "├──────────────┼───────────────────┤\n",
      "│ TOTAL_NOTA_6 │            0.0000 │\n",
      "├──────────────┼───────────────────┤\n",
      "│ TOTAL_NOTA_7 │            0.0063 │\n",
      "├──────────────┼───────────────────┤\n",
      "│ TOTAL_NOTA_8 │            0.0002 │\n",
      "├──────────────┼───────────────────┤\n",
      "│ TOTAL_NOTA_9 │            0.0001 │\n",
      "╘══════════════╧═══════════════════╛\n"
     ]
    }
   ],
   "source": [
    "q = enem_infer.query(variables=['TOTAL_NOTA'], evidence={'PRIVATE_SCHOOL': 0})\n",
    "print(q['TOTAL_NOTA'])"
   ]
  },
  {
   "cell_type": "code",
   "execution_count": 88,
   "metadata": {},
   "outputs": [
    {
     "name": "stdout",
     "output_type": "stream",
     "text": [
      "╒══════════════╤═══════════════════╕\n",
      "│ TOTAL_NOTA   │   phi(TOTAL_NOTA) │\n",
      "╞══════════════╪═══════════════════╡\n",
      "│ TOTAL_NOTA_0 │            0.0001 │\n",
      "├──────────────┼───────────────────┤\n",
      "│ TOTAL_NOTA_1 │            0.0017 │\n",
      "├──────────────┼───────────────────┤\n",
      "│ TOTAL_NOTA_2 │            0.0340 │\n",
      "├──────────────┼───────────────────┤\n",
      "│ TOTAL_NOTA_3 │            0.2046 │\n",
      "├──────────────┼───────────────────┤\n",
      "│ TOTAL_NOTA_4 │            0.3499 │\n",
      "├──────────────┼───────────────────┤\n",
      "│ TOTAL_NOTA_5 │            0.2895 │\n",
      "├──────────────┼───────────────────┤\n",
      "│ TOTAL_NOTA_6 │            0.0000 │\n",
      "├──────────────┼───────────────────┤\n",
      "│ TOTAL_NOTA_7 │            0.1110 │\n",
      "├──────────────┼───────────────────┤\n",
      "│ TOTAL_NOTA_8 │            0.0091 │\n",
      "├──────────────┼───────────────────┤\n",
      "│ TOTAL_NOTA_9 │            0.0001 │\n",
      "╘══════════════╧═══════════════════╛\n"
     ]
    }
   ],
   "source": [
    "q2 = enem_infer.query(variables=['TOTAL_NOTA'], evidence={'PRIVATE_SCHOOL': 1})\n",
    "print(q2['TOTAL_NOTA'])"
   ]
  },
  {
   "cell_type": "code",
   "execution_count": 99,
   "metadata": {},
   "outputs": [],
   "source": [
    "# ['(1905.14, 2299.4]', '(2299.4, 2693.66]', '(2693.66, 3087.92]',\n",
    "#        '(3087.92, 3482.18]', '(3482.18, 3876.44]', '(1510.88, 1905.14]',\n",
    "#        '(3876.44, 4270.7]', '(1116.62, 1510.88]', '(722.36, 1116.62]',\n",
    "#        '(324.157, 722.36]']\n",
    "mean_grades = np.array([525, 925, 1350, 1725, 2125, 2525, 2925, 3325, 3725, 4125])"
   ]
  },
  {
   "cell_type": "code",
   "execution_count": 102,
   "metadata": {},
   "outputs": [],
   "source": [
    "q1_vector = q['TOTAL_NOTA'].values\n",
    "q2_vector = q2['TOTAL_NOTA'].values"
   ]
  },
  {
   "cell_type": "code",
   "execution_count": 104,
   "metadata": {},
   "outputs": [
    {
     "data": {
      "text/plain": [
       "500.14787938075733"
      ]
     },
     "execution_count": 104,
     "metadata": {},
     "output_type": "execute_result"
    }
   ],
   "source": [
    "np.dot(q2_vector, mean_grades) - np.dot(q1_vector, mean_grades)"
   ]
  },
  {
   "cell_type": "code",
   "execution_count": null,
   "metadata": {},
   "outputs": [],
   "source": []
  },
  {
   "cell_type": "code",
   "execution_count": null,
   "metadata": {},
   "outputs": [],
   "source": []
  }
 ],
 "metadata": {
  "kernelspec": {
   "display_name": "Python [conda env:causal]",
   "language": "python",
   "name": "conda-env-causal-py"
  },
  "language_info": {
   "codemirror_mode": {
    "name": "ipython",
    "version": 3
   },
   "file_extension": ".py",
   "mimetype": "text/x-python",
   "name": "python",
   "nbconvert_exporter": "python",
   "pygments_lexer": "ipython3",
   "version": "3.5.6"
  }
 },
 "nbformat": 4,
 "nbformat_minor": 2
}
